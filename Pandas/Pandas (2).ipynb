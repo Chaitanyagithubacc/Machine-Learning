{
 "cells": [
  {
   "cell_type": "code",
   "execution_count": null,
   "id": "b0b2aa2a-e705-4d65-b4de-f40e793c6dc3",
   "metadata": {},
   "outputs": [],
   "source": []
  },
  {
   "cell_type": "code",
   "execution_count": null,
   "id": "9858d883-6761-4876-aca8-dd04168d460b",
   "metadata": {},
   "outputs": [],
   "source": [
    "# In Excel, it's very intuitive to perform various operations like adding, merging, and filtering data using built-in functions, as well as working with pivot tables. However, when you're working with Python, managing and manipulating data can seem more complex. This is where **Pandas** comes in.\n",
    "\n",
    "# **Pandas** is a powerful Python library that provides a **DataFrame** structure, which is similar to an Excel table. It allows you to store and organize data in rows and columns, making it easy to:\n",
    "\n",
    "# 1. **Store data** in a structured, tabular format (like Excel tables).\n",
    "# 2. **Perform operations** such as adding, merging, and filtering data.\n",
    "# 3. **Analyze and manipulate data** efficiently.\n",
    "# 4. **Handle missing data**, group data, and create pivot tables.\n",
    "# 5. **Read from and write to** different file formats like CSV, Excel, SQL databases, and more.\n",
    "\n",
    "# So, just like you perform operations easily in Excel, **Pandas** allows you to perform similar operations on data efficiently in Python. It’s designed to simplify working with large datasets and performing complex data analysis.\n"
   ]
  },
  {
   "cell_type": "code",
   "execution_count": null,
   "id": "82ea1ad6-ec15-4987-9490-149c9f6e44aa",
   "metadata": {},
   "outputs": [],
   "source": [
    "# NOTE: so pandas is nothing but a strong library which supports seriees and dataframme to store data like in excel and also contains many operation to perfor on data similar to  operations we can perfor in excel like filtering, erging,sorting , handling issing data right"
   ]
  },
  {
   "cell_type": "code",
   "execution_count": 1,
   "id": "41851d39-ffef-43be-bc4d-ab2c934b97bd",
   "metadata": {},
   "outputs": [],
   "source": [
    "#first thing\n",
    "import pandas as pd #aliasing"
   ]
  },
  {
   "cell_type": "code",
   "execution_count": 2,
   "id": "41309653-8650-4de2-9109-0743d32c7d88",
   "metadata": {},
   "outputs": [
    {
     "data": {
      "text/plain": [
       "'2.2.2'"
      ]
     },
     "execution_count": 2,
     "metadata": {},
     "output_type": "execute_result"
    }
   ],
   "source": [
    "#version\n",
    "#to check version of pandas in your systemm\n",
    "\n",
    "pd.__version__"
   ]
  },
  {
   "cell_type": "code",
   "execution_count": null,
   "id": "6a0ec166-95f4-4343-9c06-1107ec94c130",
   "metadata": {},
   "outputs": [],
   "source": [
    "# NOTE:Whatever operations you do in Excel — like storing data, sorting, filtering, merging, and even handling missing values — you can do in Python using Pandas."
   ]
  },
  {
   "cell_type": "code",
   "execution_count": null,
   "id": "6aa5b03e-5994-4047-adb6-bd51743ac05c",
   "metadata": {},
   "outputs": [],
   "source": [
    "#SERIES AND DATAFRAMME\n",
    "\n",
    "# series and dataframme are data structutres in pandas used to store and organise data in  way that similar to excel"
   ]
  },
  {
   "cell_type": "code",
   "execution_count": null,
   "id": "df1e99fa-102c-46fb-a026-6a21d831b2af",
   "metadata": {},
   "outputs": [],
   "source": [
    "#SERIES\n",
    "\n",
    "# A Pandas Series is a one-dimensional array data structure used to store and organize data in a format similar to a single column in Excel. Each element in the Series is associated with an index, allowing for efficient access and manipulation. A Series can hold various data types, including integers, floats, strings, and more, making it versatile for data analysis. It enables operations such as slicing, filtering, and applying functions efficiently.\n"
   ]
  },
  {
   "cell_type": "code",
   "execution_count": 3,
   "id": "dd97962c-7248-4593-bf43-00f7dede4fb0",
   "metadata": {},
   "outputs": [
    {
     "name": "stdout",
     "output_type": "stream",
     "text": [
      "0    0.25\n",
      "1    0.50\n",
      "2    0.75\n",
      "3    1.00\n",
      "dtype: float64\n"
     ]
    }
   ],
   "source": [
    "#EXAMPLE:\n",
    "\n",
    "# In Excel, if you want to create a column with values like 0.25, 0.5, 0.75, 1, you simply open Excel and type those values vertically in a column. This process is straightforward.\n",
    "\n",
    "# Similarly, when you want to achieve the same in Python, you can use Pandas Series to easily create and organize this data in a single column format.\n",
    "\n",
    "#exammple:creating a series using list \n",
    "data=[0.25,0.5,0.75,1]\n",
    "res=pd.Series(data)#s-capital\n",
    "print(res)\n",
    "\n",
    "#NOTE:\n",
    "# so every value is associated with index\n",
    "# and index in excel starts from 1 and index in pandas starts from 0\n"
   ]
  },
  {
   "cell_type": "code",
   "execution_count": 4,
   "id": "9dc4d60e-a8c6-42a9-98b5-d5bba67c32c3",
   "metadata": {},
   "outputs": [
    {
     "name": "stdout",
     "output_type": "stream",
     "text": [
      "[0.25 0.5  0.75 1.  ]\n"
     ]
    }
   ],
   "source": [
    "#df.values:\n",
    "# when we use df.values attriubute of pandas , it will convert data in series or dataframme into a nummpy array\n",
    "\n",
    "# when data was in series(single column data) using values convert to 1D array\n",
    "# similarly when data was in dataframe using values convert to 2D array\n",
    "\n",
    "#EXAMPLE:\n",
    "data=[0.25,0.5,0.75,1]\n",
    "res=pd.Series(data)\n",
    "print(res.values)"
   ]
  },
  {
   "cell_type": "code",
   "execution_count": 6,
   "id": "4df3f02e-372c-4456-aa9a-d914aa7871c3",
   "metadata": {},
   "outputs": [
    {
     "name": "stdout",
     "output_type": "stream",
     "text": [
      "0    0.25\n",
      "1    0.50\n",
      "2    0.75\n",
      "3    1.00\n",
      "dtype: float64\n",
      "0.25\n",
      "0.5\n"
     ]
    }
   ],
   "source": [
    "#ACCESSING ELEMMENTS (INDEXING)\n",
    "\n",
    "# so after organising data into series or dataframme every value is associated with index , so we can access elemmments through index\n",
    "\n",
    "#EXAMPLE:\n",
    "data=[0.25,0.5,0.75,1]\n",
    "res=pd.Series(data)\n",
    "print(res)\n",
    "#ACCESSING\n",
    "res1=res[0]\n",
    "print(res1)\n",
    "print(res[1])"
   ]
  },
  {
   "cell_type": "code",
   "execution_count": 8,
   "id": "6f93a1c1-683c-4ffd-b0bf-cb07eb994422",
   "metadata": {},
   "outputs": [
    {
     "name": "stdout",
     "output_type": "stream",
     "text": [
      "a    0.25\n",
      "b    0.50\n",
      "c    0.75\n",
      "d    1.00\n",
      "dtype: float64\n",
      "0.25\n",
      "0.5\n"
     ]
    }
   ],
   "source": [
    "#MODIFYING INDEXES\n",
    "\n",
    "#after organising data into series or dataframe every value is associated with index\n",
    "#by default index are (0 to 1)\n",
    "#we can modify index according to our choice\n",
    "\n",
    "#EXAMMPLE:\n",
    "data=[0.25,0.5,0.75,1]\n",
    "res=pd.Series(data,index=['a','b','c','d'])\n",
    "print(res)\n",
    "#accesing elements: we can acess values through there index values only\n",
    "res1=res['a']\n",
    "print(res1)\n",
    "print(res['b'])"
   ]
  },
  {
   "cell_type": "code",
   "execution_count": null,
   "id": "0f2489db-8ba9-49db-90da-8729e7a5a9f8",
   "metadata": {},
   "outputs": [],
   "source": [
    "#we can create a pandas series from\n",
    "# A. lists\n",
    "# B. dict\n",
    "# C. np.array\n",
    "# D. scalar values"
   ]
  },
  {
   "cell_type": "code",
   "execution_count": 11,
   "id": "e4065395-0a3c-4976-b715-7d5797479d02",
   "metadata": {},
   "outputs": [
    {
     "name": "stdout",
     "output_type": "stream",
     "text": [
      "AP    1000\n",
      "TS     800\n",
      "TN    6700\n",
      "KA    3400\n",
      "dtype: int64\n",
      "TS     800\n",
      "TN    6700\n",
      "KA    3400\n",
      "dtype: int64\n",
      "TS     800\n",
      "TN    6700\n",
      "KA    3400\n",
      "dtype: int64\n"
     ]
    }
   ],
   "source": [
    "#creating a pandas series from dictionary\n",
    "\n",
    "#As we know that dict is key-value pair\n",
    "#so if we want to access values we will access index\n",
    "# when you create a pandas series fromm dict the keys in dict becomme index and values becomme data of series\n",
    "\n",
    "#EXAMPLE:\n",
    "pop={'AP':1000,'TS':800,'TN':6700,'KA':3400}\n",
    "res=pd.Series(pop)\n",
    "print(res)\n",
    "\n",
    "#SLICING: keys become index so if we want to acces we use keys as index\n",
    "#example: i want to access from TS to KA\n",
    "res1=res['TS':'KA']\n",
    "print(res1)\n",
    "\n",
    "#ANOTHER WAY:we can also acces values by usinng integers(0 to n)\n",
    "res2=res[1:]\n",
    "print(res2)\n",
    "\n",
    "#QUESTION: as we know key are becomme index then we want to access only keys but how we can use both keys or integers(0 to n).\n",
    "\n",
    "#pandas have 2 types of indexing\n",
    "\n",
    "# A. LABEL-BASED INDEXING: uses the index labels(which are the dict keys in your case) to access values\n",
    "\n",
    "# B. INTEGER-BASED INDEXING: uses the position(integers) of the elements in series regerdless of what the index labels are\n",
    "\n",
    "#NOTE: we can use integers(0 to n)  as index even through keys are become index and we can use keys also . we can use any one."
   ]
  },
  {
   "cell_type": "code",
   "execution_count": null,
   "id": "b41f359f-3dff-4377-b413-7e5e34868aea",
   "metadata": {},
   "outputs": [],
   "source": [
    "\n",
    "\n",
    "#Comparison of NumPy and Pandas\n",
    "\n",
    "# - **NumPy**:\n",
    "#   - **Supports**: N-dimensional arrays (1D, 2D, etc.).\n",
    "#   - **Operations**: Provides various mathematical operations for these arrays.\n",
    "#   - **Data Type**: Only holds **numerical data** (integers, floats).\n",
    "#   - **Use Case**: Primarily used when you need to perform **numerical operations** on arrays.\n",
    "\n",
    "# - **Pandas**:\n",
    "#   - **Supports**: Data organization in tables (DataFrames) and series (single columns).\n",
    "#   - **Operations**: Allows you to perform a wide range of data operations (filtering, merging, sorting).\n",
    "#   - **Data Type**: Can hold **any data type** (numbers, strings, dates, etc.).\n",
    "#   - **Use Case**: Used when you need to perform data operations in Python that are similar to those in Excel.\n",
    "\n"
   ]
  },
  {
   "cell_type": "code",
   "execution_count": null,
   "id": "cfb045f1-e26f-4714-be0c-a0c6fd961b6f",
   "metadata": {},
   "outputs": [],
   "source": [
    "Here’s a simple explanation of both **NumPy** and **Pandas**:\n",
    "\n",
    "### NumPy:\n",
    "- **Definition**: NumPy (Numerical Python) is a library in Python that provides support for large, multi-dimensional arrays and matrices, along with a collection of mathematical functions to operate on these arrays.\n",
    "- **Key Features**:\n",
    "  - Handles **numerical data**.\n",
    "  - Supports **N-dimensional arrays** (1D, 2D, etc.).\n",
    "  - Provides efficient operations for mathematical computations.\n",
    "- **Use Case**: It is primarily used for numerical calculations and data analysis, particularly in scientific computing.\n",
    "\n",
    "### Pandas:\n",
    "- **Definition**: Pandas is a library in Python designed for data manipulation and analysis. It provides data structures like Series and DataFrames to store and organize data in a tabular format similar to Excel.\n",
    "- **Key Features**:\n",
    "  - Supports various data types (not just numerical).\n",
    "  - Provides tools for **data manipulation** (filtering, merging, aggregating).\n",
    "  - Allows easy reading from and writing to different file formats (CSV, Excel, etc.).\n",
    "- **Use Case**: It is used for data analysis tasks, making it easier to perform operations on structured data, similar to what you would do in Excel.\n",
    "\n",
    "### Summary:\n",
    "- **NumPy** is focused on numerical data and mathematical operations, while **Pandas** is focused on data manipulation and analysis, offering a more flexible way to handle various data types in a structured format."
   ]
  },
  {
   "cell_type": "code",
   "execution_count": 13,
   "id": "4539cffc-abac-44cb-a7e5-8d29aadb103c",
   "metadata": {},
   "outputs": [
    {
     "name": "stdout",
     "output_type": "stream",
     "text": [
      "0    1\n",
      "1    2\n",
      "2    3\n",
      "3    4\n",
      "4    5\n",
      "dtype: int32\n"
     ]
    }
   ],
   "source": [
    "# C. creating a series form np.array\n",
    "#exaple:\n",
    "\n",
    "import numpy as np\n",
    "import pandas as pd\n",
    "arr=np.array([1,2,3,4,5])\n",
    "res=pd.Series(arr)\n",
    "print(res)"
   ]
  },
  {
   "cell_type": "code",
   "execution_count": 14,
   "id": "02a42220-157e-488c-bea3-cba78d085256",
   "metadata": {},
   "outputs": [
    {
     "name": "stdout",
     "output_type": "stream",
     "text": [
      "0    5\n",
      "1    5\n",
      "2    5\n",
      "3    5\n",
      "dtype: int64\n"
     ]
    }
   ],
   "source": [
    "# D. creating a series from scalar values\n",
    "#Exammple:\n",
    "\n",
    "series_from_scalar = pd.Series(5, index=[0, 1, 2, 3])\n",
    "print(series_from_scalar)\n"
   ]
  },
  {
   "cell_type": "code",
   "execution_count": 20,
   "id": "e55cf8dc-f287-4467-a1a2-65d20f8af71e",
   "metadata": {},
   "outputs": [
    {
     "name": "stdout",
     "output_type": "stream",
     "text": [
      "AP    1000\n",
      "TS     800\n",
      "TN    6700\n",
      "KA    3400\n",
      "dtype: int64\n",
      "<class 'dict'>\n",
      "<class 'pandas.core.series.Series'>\n"
     ]
    }
   ],
   "source": [
    "# we can also check type of data type\n",
    "\n",
    "pop={'AP':1000,'TS':800,'TN':6700,'KA':3400}\n",
    "res=pd.Series(pop)\n",
    "print(res)\n",
    "print(type(pop))\n",
    "print(type(res))"
   ]
  },
  {
   "cell_type": "code",
   "execution_count": null,
   "id": "83177a3e-92e7-4a9f-b928-96f8a5718aab",
   "metadata": {},
   "outputs": [],
   "source": [
    "#DATAFRAME:\n",
    "\n",
    "# A pandas dataframe is a 2D array like datastructure used to store and organise data in a tabular form , much like in excel spread sheet . it consists ofrows and columns , with value is associated with row index and column namme.\n",
    "# dataframe is also called as collection of series\n",
    "# allowing for easy access and manipulation\n",
    "# dataframe can hold any datatypes\n",
    "# provides operations like filtering , slicing , mmanipulation etc siilar to the opration in excel."
   ]
  },
  {
   "cell_type": "code",
   "execution_count": null,
   "id": "a6150574-6f5b-4468-b0e8-8be1e43549c2",
   "metadata": {},
   "outputs": [],
   "source": [
    "#for example in excel i want to store and organise two data population [1000 , 800, 6700,3400]  and area [10, 8, 15,25] and it is easy to do in excel by just open excel and enter data vertically in 2 columns and we can also give colummn nammes such we can understand what the data we have and we can also perfrom various operation in excel easily\n",
    "\n",
    "# but when i want to achevie same thing in python it is difficult so we use pandas .  Pandas provides a structured way to handle data similar to how you would in Excel, but within Python. It simplifies working with tabular data and allows you to perform operations programmatically.\n",
    "\n",
    "# Here's how you can achieve the same thing in Python using Pandas:\n",
    "\n",
    "# Import Pandas.\n",
    "# Create a DataFrame with the data.\n",
    "# Assign column names like \"Population\" and \"Area.\"\n",
    "# Perform operations like filtering, sorting, or calculations."
   ]
  },
  {
   "cell_type": "code",
   "execution_count": 31,
   "id": "296d3604-4efc-4ec3-8fcd-3843ecbc49bc",
   "metadata": {},
   "outputs": [
    {
     "name": "stdout",
     "output_type": "stream",
     "text": [
      "    population  area\n",
      "AP      1000.0   NaN\n",
      "TS       800.0   NaN\n",
      "TN      6700.0   NaN\n",
      "KA      3400.0   NaN\n",
      "a          NaN  10.0\n",
      "b          NaN   8.0\n",
      "c          NaN  15.0\n",
      "d          NaN  25.0\n"
     ]
    }
   ],
   "source": [
    "#EXAMPLE:\n",
    "\n",
    "# using list create dataframe with same keys\n",
    "# here keys of both pop and pop dict are same\n",
    "import pandas as pd\n",
    "pop=[1000,800,6700,3400]\n",
    "area=[10,8,15,25]\n",
    "res=pd.DataFrame({'population':pop,'area':area})\n",
    "print(res)\n",
    "\n",
    "# Column Names: The keys from the outer dictionary you created ('population' and 'area') become the column names of the DataFrame.\n",
    "\n",
    "# Row Index: The keys from both the pop and area dictionaries ('AP', 'TS', 'TN', and 'KA') serve as the row index. Since both dictionaries share the same keys, Pandas aligns the data correctly based on these keys."
   ]
  },
  {
   "cell_type": "code",
   "execution_count": 34,
   "id": "b1f4f804-5e2e-4b00-b76f-89dbb0346840",
   "metadata": {},
   "outputs": [
    {
     "name": "stdout",
     "output_type": "stream",
     "text": [
      "    population  area\n",
      "AP        1000    10\n",
      "TS         800     8\n",
      "TN        6700    15\n",
      "KA        3400    25\n"
     ]
    }
   ],
   "source": [
    "#EXAPLE: using dict create dataframe with same keys\n",
    "# here keys of both pop and pop dict are same\n",
    "\n",
    "import pandas as pd\n",
    "pop={'AP':1000,'TS':800,'TN':6700,'KA':3400}\n",
    "area={'AP':10,'TS':8,'TN':15,'KA':25}\n",
    "res=pd.DataFrame({'population':pop,'area':area})\n",
    "print(res)\n",
    "\n",
    "# Column Names: The keys from the outer dictionary you created ('population' and 'area') become the column names of the DataFrame.\n",
    "\n",
    "# Row Index: The keys from both the pop and area dictionaries ('AP', 'TS', 'TN', and 'KA') serve as the row index. Since both dictionaries share the same keys, Pandas aligns the data correctly based on these keys."
   ]
  },
  {
   "cell_type": "code",
   "execution_count": 33,
   "id": "ea5928e3-eff8-4c73-af9d-75b3e945b66d",
   "metadata": {},
   "outputs": [
    {
     "name": "stdout",
     "output_type": "stream",
     "text": [
      "    population  area\n",
      "AP      1000.0   NaN\n",
      "TS       800.0   NaN\n",
      "TN      6700.0   NaN\n",
      "KA      3400.0   NaN\n",
      "a          NaN  10.0\n",
      "b          NaN   8.0\n",
      "c          NaN  15.0\n",
      "d          NaN  25.0\n"
     ]
    }
   ],
   "source": [
    "#EXAMPLE:\n",
    "# using dict create dataframe with different keys\n",
    "# if keys of both are area and pop are different\n",
    "pop={'AP':1000,'TS':800,'TN':6700,'KA':3400}\n",
    "area={'a':10,'b':8,'c':15,'d':25}\n",
    "res=pd.DataFrame({'population':pop,'area':area})\n",
    "print(res)"
   ]
  },
  {
   "cell_type": "code",
   "execution_count": 23,
   "id": "d95ab54c-6a5e-45a0-8a5a-839c7bf49fab",
   "metadata": {},
   "outputs": [
    {
     "name": "stdout",
     "output_type": "stream",
     "text": [
      "   population  area\n",
      "0        1000    10\n",
      "1         800     8\n",
      "2        6700    15\n",
      "3        3400    25\n"
     ]
    }
   ],
   "source": [
    "#EXAMPLE:\n",
    "\n",
    "# using list create dataframe with same keys\n",
    "# here keys of both pop and pop dict are same\n",
    "import pandas as pd\n",
    "pop=[1000,800,6700,3400]\n",
    "area=[10,8,15,25]\n",
    "res=pd.DataFrame({'population':pop,'area':area})\n",
    "print(res)\n",
    "\n",
    "# Column Names: The keys from the outer dictionary you created ('population' and 'area') become the column names of the DataFrame.\n",
    "\n",
    "# Row Index: The keys from both the pop and area dictionaries ('AP', 'TS', 'TN', and 'KA') serve as the row index. Since both dictionaries share the same keys, Pandas aligns the data correctly based on these keys."
   ]
  },
  {
   "cell_type": "code",
   "execution_count": 32,
   "id": "61f758d0-ae8d-4c7e-ada9-e07bce3ce42e",
   "metadata": {},
   "outputs": [
    {
     "name": "stdout",
     "output_type": "stream",
     "text": [
      "    population  area\n",
      "AP      1000.0   NaN\n",
      "TS       800.0   8.0\n",
      "TN      6700.0  15.0\n",
      "KA      3400.0   NaN\n",
      "a          NaN  10.0\n",
      "d          NaN  25.0\n"
     ]
    }
   ],
   "source": [
    "#EXAPLE: when somme keys in both pop and area are same\n",
    "#here TS and TN are same in both pop and area dictinary\n",
    "\n",
    "pop={'AP':1000,'TS':800,'TN':6700,'KA':3400}\n",
    "area={'a':10,'TS':8,'TN':15,'d':25}\n",
    "res=pd.DataFrame({'population':pop,'area':area})\n",
    "print(res)\n",
    "\n",
    "#NOTE: It is highly recommended to give colummn names while dealing with dataframe in pandas , but it is not compulsory."
   ]
  },
  {
   "cell_type": "code",
   "execution_count": 35,
   "id": "71051557-d4e4-40fc-ac25-19d0751db2f8",
   "metadata": {},
   "outputs": [
    {
     "name": "stdout",
     "output_type": "stream",
     "text": [
      "    population  area\n",
      "AP        1000    10\n",
      "TS         800     8\n",
      "TN        6700    15\n",
      "KA        3400    25\n",
      "[[1000   10]\n",
      " [ 800    8]\n",
      " [6700   15]\n",
      " [3400   25]]\n"
     ]
    }
   ],
   "source": [
    "#df.value\n",
    "# we know that when we use .values in dataframe it will convert data in dataframme to 2d array\n",
    "\n",
    "#EXAMPLE:\n",
    "pop={'AP':1000,'TS':800,'TN':6700,'KA':3400}\n",
    "area={'AP':10,'TS':8,'TN':15,'KA':25}\n",
    "res=pd.DataFrame({'population':pop,'area':area})\n",
    "print(res)\n",
    "res2=res.values\n",
    "print(res2)\n"
   ]
  },
  {
   "cell_type": "code",
   "execution_count": 36,
   "id": "2302024e-9ca6-4d1b-93d2-80414e2e7430",
   "metadata": {},
   "outputs": [
    {
     "name": "stdout",
     "output_type": "stream",
     "text": [
      "    population  area\n",
      "AP      1000.0   NaN\n",
      "TS       800.0   NaN\n",
      "TN      6700.0   NaN\n",
      "KA      3400.0   NaN\n",
      "a          NaN  10.0\n",
      "b          NaN   8.0\n",
      "c          NaN  15.0\n",
      "d          NaN  25.0\n",
      "[[1000.   nan]\n",
      " [ 800.   nan]\n",
      " [6700.   nan]\n",
      " [3400.   nan]\n",
      " [  nan   10.]\n",
      " [  nan    8.]\n",
      " [  nan   15.]\n",
      " [  nan   25.]]\n"
     ]
    }
   ],
   "source": [
    "#EXAMPLE: with different keys\n",
    "\n",
    "pop={'AP':1000,'TS':800,'TN':6700,'KA':3400}\n",
    "area={'a':10,'b':8,'c':15,'d':25}\n",
    "res=pd.DataFrame({'population':pop,'area':area})\n",
    "print(res)\n",
    "res2=res.values\n",
    "print(res2)"
   ]
  },
  {
   "cell_type": "code",
   "execution_count": 40,
   "id": "5d165f66-f04a-4712-ba32-5992e255a8b8",
   "metadata": {},
   "outputs": [
    {
     "name": "stdout",
     "output_type": "stream",
     "text": [
      "    population  area\n",
      "AP        1000    10\n",
      "TS         800     8\n",
      "TN        6700    15\n",
      "KA        3400    25\n",
      "Index(['AP', 'TS', 'TN', 'KA'], dtype='object')\n",
      "Index(['population', 'area'], dtype='object')\n"
     ]
    }
   ],
   "source": [
    "# TO GET INDEX & COLUMN NAMES OF DATAFRAME: i want to know what are indexs &column names of my dataframe\n",
    "\n",
    "#example:\n",
    "pop={'AP':1000,'TS':800,'TN':6700,'KA':3400}\n",
    "area={'AP':10,'TS':8,'TN':15,'KA':25}\n",
    "res=pd.DataFrame({'population':pop,'area':area})\n",
    "print(res)\n",
    "# so i want what are the indexs of these dataframe\n",
    "print(res.index)\n",
    "#similarly i want what are columns names of dataframes\n",
    "print(res.columns)"
   ]
  },
  {
   "cell_type": "code",
   "execution_count": 41,
   "id": "01655021-8c72-4099-a9d9-1e9689a96fc3",
   "metadata": {},
   "outputs": [
    {
     "name": "stdout",
     "output_type": "stream",
     "text": [
      "    population  area\n",
      "AP        1000    10\n",
      "TS         800     8\n",
      "TN        6700    15\n",
      "KA        3400    25\n",
      "AP    10\n",
      "TS     8\n",
      "TN    15\n",
      "KA    25\n",
      "Name: area, dtype: int64\n"
     ]
    }
   ],
   "source": [
    "# TO GET A SPECIFIC COLUMN\n",
    "# to get a specific area column\n",
    "\n",
    "pop={'AP':1000,'TS':800,'TN':6700,'KA':3400}\n",
    "area={'AP':10,'TS':8,'TN':15,'KA':25}\n",
    "res=pd.DataFrame({'population':pop,'area':area})\n",
    "print(res)\n",
    "#  now i want to get only area colummn\n",
    "print(res['area'])\n",
    "\n",
    "#so we get only area column with these index values"
   ]
  },
  {
   "cell_type": "code",
   "execution_count": 42,
   "id": "5d837255-c45b-42f4-aaf8-e7c4a7393cd3",
   "metadata": {},
   "outputs": [
    {
     "name": "stdout",
     "output_type": "stream",
     "text": [
      "  state  population  area\n",
      "0    AP        1000    10\n",
      "1    TS         800     8\n",
      "2    TN        6700    15\n",
      "3    KA        3400    25\n"
     ]
    }
   ],
   "source": [
    "# here in above keys(AP,TS,TN,KA) are become index , but now i want that index in separate column\n",
    "# i want to make states AP, TN,TS,KA in a separate column\n",
    "pop=[1000,800,6700,3400]\n",
    "area=[10,8,15,25]\n",
    "state=['AP','TS','TN','KA']\n",
    "res=pd.DataFrame({'state':state,'population':pop,'area':area})\n",
    "print(res)"
   ]
  },
  {
   "cell_type": "code",
   "execution_count": 47,
   "id": "7b381af0-30ae-4c1f-9977-cf2dc6722017",
   "metadata": {},
   "outputs": [],
   "source": [
    "# 1. Seperate dictionaries\n",
    "# 2. List of dictionaries\n",
    "# 3. Single dict with lists"
   ]
  },
  {
   "cell_type": "code",
   "execution_count": 48,
   "id": "6175b83b-9df9-4aa2-9425-b515848f71f1",
   "metadata": {},
   "outputs": [
    {
     "name": "stdout",
     "output_type": "stream",
     "text": [
      "    population  Area\n",
      "AP        1000    10\n",
      "TS         800     8\n",
      "TN        6700    15\n",
      "KA        3400    25\n"
     ]
    }
   ],
   "source": [
    "# 1. Separate dictinaries\n",
    "#  When you use separate dictionaries like in your example, the keys from each dictionary (i.e., 'AP', 'TS', 'TN', and 'KA') become the row labels (index). The column names are specified when building the DataFrame by providing labels like 'population' and 'Area'.\n",
    "\n",
    "pop={'AP':1000,'TS':800,'TN':6700,'KA':3400}\n",
    "area={'AP':10,'TS':8,'TN':15,'KA':25}\n",
    "res=pd.DataFrame({'population':pop,'Area':area})\n",
    "print(res)"
   ]
  },
  {
   "cell_type": "code",
   "execution_count": 49,
   "id": "96b44192-33cb-4e75-bcd9-2d92ced1713c",
   "metadata": {},
   "outputs": [
    {
     "name": "stdout",
     "output_type": "stream",
     "text": [
      "  state   Pop  area\n",
      "0    AP  1000    10\n",
      "1    TS   800     8\n",
      "2    TN  6700    15\n",
      "3    KA  3400    25\n"
     ]
    }
   ],
   "source": [
    "# 2. List of dictionaries\n",
    "# When using a list of dictionaries in a DataFrame, each dictionary represents a row data, and the keys of the dictionaries become the column names.\n",
    "\n",
    "data=[{'state':'AP','Pop':1000,'area':10},\n",
    "      {'state':'TS','Pop':800,'area':8},\n",
    "      {'state':'TN','Pop':6700,'area':15},\n",
    "      {'state':'KA','Pop':3400,'area':25}]\n",
    "res=pd.DataFrame(data)\n",
    "print(res)"
   ]
  },
  {
   "cell_type": "code",
   "execution_count": 50,
   "id": "8fc15820-d96d-4668-8140-7d9a76a8baeb",
   "metadata": {},
   "outputs": [
    {
     "name": "stdout",
     "output_type": "stream",
     "text": [
      "  state   pop  area\n",
      "0    AP  1000    10\n",
      "1    TS   800     8\n",
      "2    TN  6700    15\n",
      "3    KA  3400    25\n"
     ]
    }
   ],
   "source": [
    "# Single dictionary with list values\n",
    "# When you use a single dictionary where the values are lists, the keys become the column names, and the values in the lists are stored column-wise.\n",
    "\n",
    "data={'state':['AP','TS','TN','KA'],\n",
    "      'pop':[1000,800,6700,3400],\n",
    "      'area':[10,8,15,25]}\n",
    "res=pd.DataFrame(data)\n",
    "print(res)"
   ]
  },
  {
   "cell_type": "code",
   "execution_count": 52,
   "id": "516e9ce4-d714-48fa-a58b-8b6213425b10",
   "metadata": {},
   "outputs": [
    {
     "name": "stdout",
     "output_type": "stream",
     "text": [
      "   a   b\n",
      "0  0   0\n",
      "1  1   2\n",
      "2  2   4\n",
      "3  3   6\n",
      "4  4   8\n",
      "5  5  10\n",
      "6  6  12\n",
      "7  7  14\n",
      "8  8  16\n",
      "9  9  18\n"
     ]
    }
   ],
   "source": [
    "#example:\n",
    "data=[{'a':i,'b':2*i} for i in range(10)]\n",
    "res=pd.DataFrame(data)\n",
    "print(res)\n",
    "# we know that when we use list of dict keys become column names and each dict represent row data"
   ]
  },
  {
   "cell_type": "code",
   "execution_count": 54,
   "id": "19e39ff0-6ffb-47b6-8ed7-16eb5c0c86e3",
   "metadata": {},
   "outputs": [
    {
     "name": "stdout",
     "output_type": "stream",
     "text": [
      "      a     b     c     d\n",
      "0  10.0  20.0   NaN   NaN\n",
      "1   NaN   NaN  30.0  40.0\n"
     ]
    }
   ],
   "source": [
    "#example:\n",
    "data=[{'a':10,'b':20},\n",
    "      {'c':30,'d':40}]\n",
    "res=pd.DataFrame(data)\n",
    "print(res)\n",
    "#here there are no commmmon keys so all keys becomme column nammmes "
   ]
  },
  {
   "cell_type": "code",
   "execution_count": 58,
   "id": "4b8974eb-619a-420b-b9d4-071107a24b21",
   "metadata": {},
   "outputs": [
    {
     "name": "stdout",
     "output_type": "stream",
     "text": [
      "    even  odd\n",
      "0      2    3\n",
      "1      4    5\n",
      "2      6    7\n",
      "3      8    9\n",
      "4     10   11\n",
      "5     12   13\n",
      "6     14   15\n",
      "7     16   17\n",
      "8     18   19\n",
      "9     20   21\n",
      "10    22   23\n",
      "11    24   25\n",
      "12    26   27\n",
      "13    28   29\n",
      "14    30   31\n",
      "15    32   33\n",
      "16    34   35\n",
      "17    36   37\n",
      "18    38   39\n",
      "19    40   41\n",
      "20    42   43\n",
      "21    44   45\n",
      "22    46   47\n",
      "23    48   49\n",
      "24    50   51\n",
      "25    52   53\n",
      "26    54   55\n",
      "27    56   57\n",
      "28    58   59\n",
      "29    60   61\n",
      "30    62   63\n",
      "31    64   65\n",
      "32    66   67\n",
      "33    68   69\n",
      "34    70   71\n",
      "35    72   73\n",
      "36    74   75\n",
      "37    76   77\n",
      "38    78   79\n",
      "39    80   81\n",
      "40    82   83\n",
      "41    84   85\n",
      "42    86   87\n",
      "43    88   89\n",
      "44    90   91\n",
      "45    92   93\n",
      "46    94   95\n",
      "47    96   97\n",
      "48    98   99\n",
      "49   100  101\n",
      "    even  odd\n",
      "0      2    3\n",
      "1      3    4\n",
      "2      4    5\n",
      "3      5    6\n",
      "4      6    7\n",
      "..   ...  ...\n",
      "95    97   98\n",
      "96    98   99\n",
      "97    99  100\n",
      "98   100  101\n",
      "99   101  102\n",
      "\n",
      "[100 rows x 2 columns]\n"
     ]
    }
   ],
   "source": [
    "#HOME WORK: create dataframe with 1st column even nummmbers b/w 1 to 100 and 2nd column odd numbers b/w 1 to 100.\n",
    "data=[{'even':i+1,'odd':i+2} for i in range(1,101,2)]\n",
    "res=pd.DataFrame(data)\n",
    "print(res)\n",
    "\n",
    "data={'even':[i+1 for i in range(1,101)],\n",
    "      'odd':[i+2 for i in range(1,101)]}\n",
    "res=pd.DataFrame(data)\n",
    "print(res)"
   ]
  },
  {
   "cell_type": "code",
   "execution_count": 63,
   "id": "c1e7bc71-28d1-40b0-b7a7-9936119f8906",
   "metadata": {},
   "outputs": [
    {
     "name": "stdout",
     "output_type": "stream",
     "text": [
      "          0         1\n",
      "0  0.402881  0.260388\n",
      "1  0.467722  0.350959\n",
      "2  0.109761  0.805377\n",
      "          a         b\n",
      "c  0.402881  0.260388\n",
      "d  0.467722  0.350959\n",
      "e  0.109761  0.805377\n"
     ]
    }
   ],
   "source": [
    "#numpy array to pandas dataframe\n",
    "import numpy as np\n",
    "arr=np.random.random((3,2))\n",
    "res=pd.DataFrame(arr)\n",
    "print(res)\n",
    "#if you want your own row index and colummn names\n",
    "res2=pd.DataFrame(arr,columns=['a','b'],index=['c','d','e'])\n",
    "print(res2)"
   ]
  },
  {
   "cell_type": "code",
   "execution_count": 3,
   "id": "5b3ccdbb-c1ea-41e4-a47c-1db1966fd1a6",
   "metadata": {},
   "outputs": [
    {
     "name": "stdout",
     "output_type": "stream",
     "text": [
      "   a  b  c  d  e\n",
      "a  1  1  1  1  1\n",
      "b  1  1  1  1  1\n",
      "c  1  1  1  1  1\n",
      "d  1  1  1  1  1\n"
     ]
    }
   ],
   "source": [
    "# Create a dataFrame or a table of all ones with 4 rows and 5 columns with row index was [a,b,c,d] and column name [a,b,c,d,e]\n",
    "\n",
    "import numpy as np\n",
    "import pandas as pd\n",
    "data=pd.DataFrame(np.ones((4,5),dtype=\"int\"),index=['a','b','c','d'], columns=['a','b','c','d','e'])\n",
    "print(data)"
   ]
  },
  {
   "cell_type": "code",
   "execution_count": 21,
   "id": "20df05d8-ffee-43af-a96d-f265d5726781",
   "metadata": {},
   "outputs": [
    {
     "name": "stdout",
     "output_type": "stream",
     "text": [
      "[ 1.    3.25  5.5   7.75 10.  ]\n",
      "a     1.00\n",
      "b     3.25\n",
      "c     5.50\n",
      "d     7.75\n",
      "e    10.00\n",
      "dtype: float64\n",
      "3.25\n",
      "a     1.00\n",
      "b    12.00\n",
      "c     5.50\n",
      "d     7.75\n",
      "e    10.00\n",
      "dtype: float64\n",
      "a     1.0\n",
      "b    12.0\n",
      "c     5.5\n",
      "dtype: float64\n",
      "a     1.0\n",
      "b    12.0\n",
      "c     5.5\n",
      "dtype: float64\n",
      "b    12.00\n",
      "d     7.75\n",
      "e    10.00\n",
      "dtype: float64\n",
      "d    7.75\n",
      "dtype: float64\n"
     ]
    },
    {
     "data": {
      "text/plain": [
       "a    False\n",
       "b    False\n",
       "c    False\n",
       "d     True\n",
       "e    False\n",
       "dtype: bool"
      ]
     },
     "execution_count": 21,
     "metadata": {},
     "output_type": "execute_result"
    }
   ],
   "source": [
    "# Create a 1D array of 5 numbers between 1 to 10 using linspace\n",
    "data=np.linspace(1,10,5)\n",
    "print(data)\n",
    "\n",
    "# Now convert these array to a series with index [a,b,c,d,e]\n",
    "res=pd.Series(data,index=['a','b','c','d','e'])\n",
    "print(res)\n",
    "\n",
    "# Now i want to extract value form index b\n",
    "res1=res['b']\n",
    "print(res1)\n",
    "\n",
    "# Now i want to change the value of index b to 12\n",
    "res['b']=12\n",
    "print(res)\n",
    "\n",
    "# Now i want to print top 3 values\n",
    "res1=res['a':'c']\n",
    "print(res1)\n",
    "# another method\n",
    "res1=res[0:3]\n",
    "print(res1)\n",
    "\n",
    "# Now i want to filter the values which are greater then 6 from series\n",
    "res1=res[res>6]\n",
    "print(res1)\n",
    "\n",
    "# Simmilarly now i want  to filter the values which are greater then 6 and les then 10 in series\n",
    "res1=res[(res>6) & (res<10)]# dont use and use only &\n",
    "print(res1)\n",
    "(res>6) & (res<10)"
   ]
  },
  {
   "cell_type": "code",
   "execution_count": 26,
   "id": "a2c9db65-b724-43b6-b1c4-ac87d84eff98",
   "metadata": {},
   "outputs": [
    {
     "name": "stdout",
     "output_type": "stream",
     "text": [
      "              area  Population\n",
      "california  423967     3833251\n",
      "Texas       695662    26448193\n",
      "california    423967\n",
      "Texas         695662\n",
      "Newyork       141297\n",
      "Florida       170312\n",
      "Illinois      149995\n",
      "Name: area, dtype: int64\n"
     ]
    }
   ],
   "source": [
    "# EXAMPLE:\n",
    "area={'california':423967,'Texas':695662,'Newyork':141297,'Florida':170312,'Illinois':149995}\n",
    "pop={'california':3833251,'Texas':26448193,'Newyork':19651127,'Florida':19552860,'Illinois':12882135}\n",
    "#now create dataframe using column name as population and area\n",
    "res=pd.DataFrame({'area':area,'Population':pop})\n",
    "print(res)\n",
    "\n",
    "# Now fromm these i want only area column\n",
    "print(res['area'])"
   ]
  },
  {
   "cell_type": "code",
   "execution_count": 2,
   "id": "8b6e39ff-6447-4595-9d12-831f6718c061",
   "metadata": {},
   "outputs": [
    {
     "name": "stdout",
     "output_type": "stream",
     "text": [
      "california    423967\n",
      "Texas         695662\n",
      "Newyork       141297\n",
      "Florida       170312\n",
      "Illinois      149995\n",
      "dtype: int64\n",
      "423967\n",
      "california    423967\n",
      "Texas         695662\n",
      "dtype: int64\n",
      "Texas       695662\n",
      "Newyork     141297\n",
      "Florida     170312\n",
      "Illinois    149995\n",
      "dtype: int64\n",
      "              area  population\n",
      "california  423967     3833251\n",
      "Texas       695662    26448193\n",
      "Newyork     141297    19651127\n",
      "Florida     170312    19552860\n",
      "Illinois    149995    12882135\n",
      "area           423967\n",
      "population    3833251\n",
      "Name: california, dtype: int64\n",
      "              area  population\n",
      "california  423967     3833251\n",
      "Texas       695662    26448193\n",
      "            area  population\n",
      "Texas     695662    26448193\n",
      "Newyork   141297    19651127\n",
      "Florida   170312    19552860\n",
      "Illinois  149995    12882135\n",
      "california    423967\n",
      "Texas         695662\n",
      "Newyork       141297\n",
      "Florida       170312\n",
      "Illinois      149995\n",
      "Name: area, dtype: int64\n",
      "423967\n",
      "california    423967\n",
      "Texas         695662\n",
      "Name: area, dtype: int64\n",
      "Texas       695662\n",
      "Newyork     141297\n",
      "Florida     170312\n",
      "Illinois    149995\n",
      "Name: area, dtype: int64\n"
     ]
    }
   ],
   "source": [
    "# .LOC[]:\n",
    "# The .loc[] accessor in pandas is used for label-based indexing, allowing you to select data from Series or DataFrames by index labels (for rows) and column names (for DataFrames)\n",
    "\n",
    "#---------------------------------------------------------------------------------------------------------------------------------------------------------\n",
    "\n",
    "#.LOC[] IN SERIES (1D DIMMENSION):\n",
    "# A Series is like a single column or list of values with an associated index. The .loc[] function in Series is used to select elements based on index labels.\n",
    "import pandas as pd\n",
    "area={'california':423967,'Texas':695662,'Newyork':141297,'Florida':170312,'Illinois':149995}\n",
    "res=pd.Series(area)\n",
    "print(res)\n",
    "\n",
    "# Now i want to access a value of california\n",
    "print(res.loc['california'])\n",
    "\n",
    "# now i want to acces values of california and texas\n",
    "print(res.loc[['california','Texas']])\n",
    "\n",
    "# Now i want to access values of from texas to illinois (slicing)\n",
    "print(res.loc['Texas':'Illinois'])\n",
    "\n",
    "# Key Points:\n",
    "# .loc[] allows you to select data by the index labels.\n",
    "# You can select a single value, a list of values, or a range of values.\n",
    "# Label slicing with .loc[] in a Series includes the endpoint.\n",
    "# You can use conditions inside .loc[] for filtering data.\n",
    "\n",
    "# ---------------------------------------------------------------------------------------------------------------------------------------------------\n",
    "\n",
    "#.LOC[] IN DATAFRAME (2D DIMENSION)\n",
    "# In a DataFrame, .loc[] is used to access rows and columns dat based on labels. Since a DataFrame has both row index labels and column names, .loc[] allows you to access both.\n",
    "area={'california':423967,'Texas':695662,'Newyork':141297,'Florida':170312,'Illinois':149995}\n",
    "pop={'california':3833251,'Texas':26448193,'Newyork':19651127,'Florida':19552860,'Illinois':12882135}\n",
    "res=pd.DataFrame({'area':area,'population':pop})\n",
    "print(res)\n",
    "\n",
    "# # Now i want to print a commplete row of california\n",
    "print(res.loc['california'])\n",
    "\n",
    "# now in want to print complete rows of california andd texas\n",
    "print(res.loc[['california','Texas']])\n",
    "\n",
    "# now i want to print all rows from texas to illinois\n",
    "print(res.loc['Texas':'Illinois'])\n",
    "\n",
    "# now i want to print only area column\n",
    "print(res['area'])\n",
    "\n",
    "# now i want to print area value of california\n",
    "print(res.loc['california','area'])\n",
    "\n",
    "#now i want to print area values of california and texas \n",
    "print(res.loc[['california','Texas'],'area'])\n",
    "\n",
    "#now i want to print area values from texas to illinois\n",
    "print(res.loc['Texas':'Illinois','area'])\n",
    "\n",
    "# KEY POINTS:\n",
    "# .loc[] is used to select data by row labels and column names.\n",
    "# You can select a single value, multiple values, or a range of values.\n",
    "# You can use conditional filtering with .loc[] in DataFrames.\n",
    "# When slicing rows, the end value is included."
   ]
  },
  {
   "cell_type": "raw",
   "id": "08f0cfa2-e640-4205-bbc6-e5ddf7dce0ec",
   "metadata": {},
   "source": [
    "#ILOC[]:\n",
    "# It is used to select rows and columns in a DataFrame or Series by their integer positions.\n",
    "area={'california':423967,'Texas':695662,'Newyork':141297,'Florida':170312,'Illinois':149995}\n",
    "res=pd.Series(area)\n",
    "print(res)\n",
    "\n"
   ]
  },
  {
   "cell_type": "code",
   "execution_count": 12,
   "id": "6334be69-08d2-48ba-80fd-5c9adea1b40d",
   "metadata": {},
   "outputs": [
    {
     "name": "stdout",
     "output_type": "stream",
     "text": [
      "california    423967\n",
      "Texas         695662\n",
      "Newyork       141297\n",
      "Florida       170312\n",
      "Illinois      149995\n",
      "dtype: int64\n",
      "423967\n",
      "california    423967\n",
      "Texas         695662\n",
      "dtype: int64\n",
      "Texas       695662\n",
      "Newyork     141297\n",
      "Florida     170312\n",
      "Illinois    149995\n",
      "dtype: int64\n",
      "              area  population\n",
      "california  423967     3833251\n",
      "Texas       695662    26448193\n",
      "Newyork     141297    19651127\n",
      "Florida     170312    19552860\n",
      "Illinois    149995    12882135\n",
      "area            695662\n",
      "population    26448193\n",
      "Name: Texas, dtype: int64\n",
      "              area  population\n",
      "california  423967     3833251\n",
      "Texas       695662    26448193\n",
      "            area  population\n",
      "Texas     695662    26448193\n",
      "Newyork   141297    19651127\n",
      "Florida   170312    19552860\n",
      "Illinois  149995    12882135\n",
      "california    423967\n",
      "Texas         695662\n",
      "Newyork       141297\n",
      "Florida       170312\n",
      "Illinois      149995\n",
      "Name: area, dtype: int64\n",
      "3833251\n",
      "california     3833251\n",
      "Texas         26448193\n",
      "Name: population, dtype: int64\n",
      "Texas       26448193\n",
      "Newyork     19651127\n",
      "Florida     19552860\n",
      "Illinois    12882135\n",
      "Name: population, dtype: int64\n"
     ]
    }
   ],
   "source": [
    "#ILOC[]:\n",
    "# It is used to select rows and columns in a DataFrame or Series by their integer positions.\n",
    "\n",
    "#NOTE:\n",
    "#.loc[] is label-based indexing, where you use row and column labels (names) to select data.\n",
    "# .iloc[] is integer-based indexing, where you use integer positions (numeric indices) to select data.\n",
    "\n",
    "\n",
    "area={'california':423967,'Texas':695662,'Newyork':141297,'Florida':170312,'Illinois':149995}\n",
    "res=pd.Series(area)\n",
    "print(res)\n",
    "\n",
    "# Now i want to access a value of california\n",
    "print(res.iloc[0])\n",
    "\n",
    "# now i want to acces values of california and texas\n",
    "print(res.iloc[[0,1]])\n",
    "\n",
    "# Now i want to access values of from texas to illinois (slicing)\n",
    "print(res.iloc[1:5])\n",
    "\n",
    "\n",
    "# dataframe:\n",
    "\n",
    "area={'california':423967,'Texas':695662,'Newyork':141297,'Florida':170312,'Illinois':149995}\n",
    "pop={'california':3833251,'Texas':26448193,'Newyork':19651127,'Florida':19552860,'Illinois':12882135}\n",
    "res=pd.DataFrame({'area':area,'population':pop})\n",
    "print(res)\n",
    "\n",
    "# # Now i want to print a commplete row of california\n",
    "print(res.iloc[0])\n",
    "\n",
    "# now in want to print complete rows of california andd texas\n",
    "print(res.iloc[[0,1]])\n",
    "\n",
    "# now i want to print all rows from texas to illinois\n",
    "print(res.iloc[1:5])\n",
    "\n",
    "# now i want to print only area column\n",
    "print(res['area'])\n",
    "\n",
    "# now i want to print area value of california\n",
    "print(res.iloc[0,1])\n",
    "\n",
    "#now i want to print area values of california and texas \n",
    "print(res.iloc[[0,1],1])\n",
    "\n",
    "#now i want to print area values from texas to illinois\n",
    "print(res.iloc[1:5,1])\n",
    "\n",
    "# Key Features of .iloc[]:\n",
    "# Positional Indexing: It uses numerical indices to select data, unlike .loc[], which uses labels.\n",
    "# Row and Column Selection: You can specify the row and column indices to access specific data.\n",
    "# Slicing: It supports slicing, allowing you to select ranges of rows or columns.\n"
   ]
  },
  {
   "cell_type": "code",
   "execution_count": 13,
   "id": "26e67b2e-a60c-43af-a8a0-372a53b649bb",
   "metadata": {},
   "outputs": [
    {
     "name": "stdout",
     "output_type": "stream",
     "text": [
      "              area  population\n",
      "california  423967     3833251\n",
      "Texas       695662    26448193\n",
      "Newyork     141297    19651127\n",
      "Florida     170312    19552860\n",
      "Illinois    149995    12882135\n",
      "              area  population     Density\n",
      "california  423967     3833251    9.041390\n",
      "Texas       695662    26448193   38.018740\n",
      "Newyork     141297    19651127  139.076746\n",
      "Florida     170312    19552860  114.806121\n",
      "Illinois    149995    12882135   85.883763\n"
     ]
    }
   ],
   "source": [
    "#EXAMMPLE\n",
    "\n",
    "area={'california':423967,'Texas':695662,'Newyork':141297,'Florida':170312,'Illinois':149995}\n",
    "pop={'california':3833251,'Texas':26448193,'Newyork':19651127,'Florida':19552860,'Illinois':12882135}\n",
    "res=pd.DataFrame({'area':area,'population':pop})\n",
    "print(res)\n",
    "# i have these data from these i want to create a new colummn name density(population/area)\n",
    "res['Density']=res['population']/res['area']\n",
    "print(res)"
   ]
  },
  {
   "cell_type": "code",
   "execution_count": 14,
   "id": "b69df0ed-406a-4e3b-9ca0-ab6431faab10",
   "metadata": {},
   "outputs": [
    {
     "name": "stdout",
     "output_type": "stream",
     "text": [
      "              california         Texas       Newyork       Florida  \\\n",
      "area        4.239670e+05  6.956620e+05  1.412970e+05  1.703120e+05   \n",
      "population  3.833251e+06  2.644819e+07  1.965113e+07  1.955286e+07   \n",
      "Density     9.041390e+00  3.801874e+01  1.390767e+02  1.148061e+02   \n",
      "\n",
      "                Illinois  \n",
      "area        1.499950e+05  \n",
      "population  1.288214e+07  \n",
      "Density     8.588376e+01  \n"
     ]
    }
   ],
   "source": [
    "res1=res.T\n",
    "print(res1)\n",
    "# here all colummns become rows and all rows become colummns"
   ]
  },
  {
   "cell_type": "code",
   "execution_count": 21,
   "id": "608d84a4-aa61-470b-b5d2-cf83aefc1dcb",
   "metadata": {},
   "outputs": [
    {
     "name": "stdout",
     "output_type": "stream",
     "text": [
      "              area  population\n",
      "california  423967     3833251\n",
      "Texas       695662    26448193\n",
      "Newyork     141297    19651127\n",
      "Florida     170312    19552860\n",
      "Illinois    149995    12882135\n",
      "              area  population\n",
      "california  423967     3833251\n",
      "Texas       695662    26448193\n",
      "Newyork     141297    19651127\n"
     ]
    }
   ],
   "source": [
    "area={'california':423967,'Texas':695662,'Newyork':141297,'Florida':170312,'Illinois':149995}\n",
    "pop={'california':3833251,'Texas':26448193,'Newyork':19651127,'Florida':19552860,'Illinois':12882135}\n",
    "res=pd.DataFrame({'area':area,'population':pop})\n",
    "print(res)\n",
    "# from these i want only data form california to newyork along with there area and population values\n",
    "res1=res.iloc[0:3,0:2]\n",
    "print(res1)\n"
   ]
  },
  {
   "cell_type": "code",
   "execution_count": 27,
   "id": "37f9ae7d-9e88-4388-95c0-b1846fc9f5c2",
   "metadata": {},
   "outputs": [
    {
     "name": "stdout",
     "output_type": "stream",
     "text": [
      "        mathematics  social marks  science marks\n",
      "Ram              10            20             70\n",
      "Rahul            20            40             30\n",
      "Rohit            30            50             70\n",
      "Kohili           40            80             10\n",
      "jedeja           50            90             90\n",
      "mathematics      50\n",
      "social marks     90\n",
      "science marks    90\n",
      "Name: jedeja, dtype: int64\n",
      "        mathematics  social marks  science marks\n",
      "Ram              10            20             70\n",
      "Rahul            20            40             30\n",
      "Rohit            30            50             70\n",
      "jedeja           50            90             90\n",
      "        mathematics  social marks  science marks\n",
      "Rohit            30            50             70\n",
      "jedeja           50            90             90\n"
     ]
    }
   ],
   "source": [
    "#EXAMPLE:\n",
    "data={'mathematics':[10,20,30,40,50],\n",
    "      'social marks':[20,40,50,80,90],\n",
    "      'science marks':[70,30,70,10,90]}\n",
    "res=pd.DataFrame(data,index=['Ram','Rahul','Rohit','Kohili','jedeja'])\n",
    "print(res)\n",
    "\n",
    "# Now i want to find marks of jedeja\n",
    "print(res.loc['jedeja'])\n",
    "\n",
    "# Now i want to filter all rows which are science marks greater then 20\n",
    "res1=res[res['science marks']>20]\n",
    "print(res1)\n",
    "\n",
    "# Now i want to filter all rows which are scince marks greater then 10 and socila arks greater then 40\n",
    "res1=res[(res['science marks']>10) & (res['social marks']>40)]\n",
    "print(res1)"
   ]
  },
  {
   "cell_type": "code",
   "execution_count": 31,
   "id": "3057373d-5b97-4386-b709-4eb5ec68ab88",
   "metadata": {},
   "outputs": [
    {
     "name": "stdout",
     "output_type": "stream",
     "text": [
      "[4 9 4 6]\n"
     ]
    }
   ],
   "source": [
    "# OPERATIONS:\n",
    "\n",
    "import numpy as np\n",
    "arr=np.random.seed(1001)\n",
    "arr1=np.random.randint(1,10,4)\n",
    "print(arr1)\n",
    "# So here for example i performing a task so here numbers are randomly generated because we use np.random so task become more difficult . so we use np.random.seed ,By specifying a seed (in this case, 1001), you control the sequence of random numbers generated, so every time you run the code, you'll get the same random numbers."
   ]
  },
  {
   "cell_type": "code",
   "execution_count": 36,
   "id": "d8bb44a2-e244-4c78-8e83-dd60d5c52ea1",
   "metadata": {},
   "outputs": [
    {
     "name": "stdout",
     "output_type": "stream",
     "text": [
      "   A  B  C  D\n",
      "0  5  0  6  7\n",
      "1  7  5  3  0\n",
      "2  2  2  3  2\n",
      "          A         B         C         D\n",
      "0 -0.958924  0.000000 -0.279415  0.656987\n",
      "1  0.656987 -0.958924  0.141120  0.000000\n",
      "2  0.909297  0.909297  0.141120  0.909297\n",
      "0   -0.958924\n",
      "1    0.656987\n",
      "2    0.909297\n",
      "Name: A, dtype: float64\n"
     ]
    }
   ],
   "source": [
    "#EXAMPLE:\n",
    "\n",
    "data=pd.DataFrame(np.random.randint(0,10,(3,4)),columns=['A','B','C','D'])\n",
    "print(data)\n",
    "\n",
    "# now i want to compute sin values for all data\n",
    "res=np.sin(data)\n",
    "print(res)\n",
    "\n",
    "# if i want to compute sin values for a particular column\n",
    "res=np.sin(data['A'])\n",
    "print(res)"
   ]
  },
  {
   "cell_type": "code",
   "execution_count": 47,
   "id": "305744cb-14bc-4b9a-b704-0f1aae7bd928",
   "metadata": {},
   "outputs": [
    {
     "name": "stdout",
     "output_type": "stream",
     "text": [
      "     0    1    2\n",
      "0  1.0  NaN  2.0\n",
      "1  2.0  3.0  5.0\n",
      "2  NaN  4.0  6.0\n",
      "0    1\n",
      "1    1\n",
      "2    0\n",
      "dtype: int64\n",
      "     0    1    2\n",
      "1  2.0  3.0  5.0\n",
      "     2\n",
      "0  2.0\n",
      "1  5.0\n",
      "2  6.0\n",
      "     0    1    2\n",
      "0  1.0  NaN  2.0\n",
      "1  2.0  3.0  5.0\n",
      "2  2.0  4.0  6.0\n",
      "     0    1    2\n",
      "0  1.0  3.0  2.0\n",
      "1  2.0  3.0  5.0\n",
      "2  NaN  4.0  6.0\n",
      "          0         1    2\n",
      "0  1.000000  3.285714  2.0\n",
      "1  2.000000  3.000000  5.0\n",
      "2  3.285714  4.000000  6.0\n"
     ]
    }
   ],
   "source": [
    "# HANDLING WITH MISSING VALUES \n",
    "\n",
    "# EXAMPLE: i have a dataframe\n",
    "array=np.array([[1,np.nan,2],[2,3,5],[np.nan,4,6]])\n",
    "data=pd.DataFrame(array)\n",
    "print(data) \n",
    "\n",
    "# the problem with these data was there are some nan( not a numbers)\n",
    "\n",
    "# now to count the nan values in each column\n",
    "res=data.isnull().sum()\n",
    "print(res)\n",
    "\n",
    "# to drop nan values\n",
    "res=data.dropna()\n",
    "print(res)\n",
    "# By default axis=0 so if the rows contains any  nan values so it will drop that row . example if 2nd row have  nan value it will drop complete row\n",
    "\n",
    "# axis=1\n",
    "res=data.dropna(axis=1)\n",
    "print(res)\n",
    "# axis=1 so if columns have nan values so it will drop that column . so here column 0 and 1 has nan so it drop both columns\n",
    "\n",
    "\n",
    "# we can also fill nan values\n",
    "res=data.ffill()#forward fill\n",
    "print(res)\n",
    "# so here where nan values are there it will fill with its previous value so here there are 2 nan values 1st one in 1st colummn last value and 2nd oone was in 2nd column 1st values so for 1st nan has previous value and for 2nd nan value there is no previous value \n",
    "\n",
    "#similarly\n",
    "res=data.bfill()#backward fill\n",
    "print(res)\n",
    "# so here where nan values are there it will fill with its next value so here there are 2 nan values 1st one in 1st colummn last value and 2nd oone was in 2nd column 1st values so for 1st nan has no next value and for 2nd nan value there is next value \n",
    "\n",
    "#we can also fill nan values with mean\n",
    "res=data.fillna(np.mean(data))\n",
    "print(res)\n",
    "# so here there are 2 nan values 1st one in 1st colummn last value and 2nd oone was in 2nd column 1st values so 1st nan value is filled with mean of 1st column and 2nd mmean was filled with 2nd column mean"
   ]
  },
  {
   "cell_type": "code",
   "execution_count": null,
   "id": "99fb43db-8964-4e99-b398-e26550dc4a9c",
   "metadata": {},
   "outputs": [],
   "source": [
    "# HIERARCHICAL INDEXING:\n"
   ]
  },
  {
   "cell_type": "code",
   "execution_count": 12,
   "id": "c0910f1e-4b59-447b-b76e-8096958bc402",
   "metadata": {},
   "outputs": [
    {
     "name": "stdout",
     "output_type": "stream",
     "text": [
      "(california, 2000)    33871648\n",
      "(california, 2001)    37253956\n",
      "(california, 2010)    18976457\n",
      "(new york, 2000)      19378102\n",
      "(new york, 2010)      20851820\n",
      "(texas, 2000)         25145561\n",
      "(texas, 2010)         26448193\n",
      "dtype: int64\n",
      "california  2000    33871648\n",
      "            2001    37253956\n",
      "            2010    18976457\n",
      "new york    2000    19378102\n",
      "            2010    20851820\n",
      "texas       2000    25145561\n",
      "            2010    26448193\n",
      "dtype: int64\n",
      "                  2000        2001        2010\n",
      "california  33871648.0  37253956.0  18976457.0\n",
      "new york    19378102.0         NaN  20851820.0\n",
      "texas       25145561.0         NaN  26448193.0\n",
      "california  2000    33871648.0\n",
      "            2001    37253956.0\n",
      "            2010    18976457.0\n",
      "new york    2000    19378102.0\n",
      "            2010    20851820.0\n",
      "texas       2000    25145561.0\n",
      "            2010    26448193.0\n",
      "dtype: float64\n"
     ]
    }
   ],
   "source": [
    "# EXAMPLE:\n",
    "\n",
    "# MULTIINDEX:\n",
    "\n",
    "import pandas as pd\n",
    "\n",
    "# first thing we have do is to store all combination of multi-indexes in list of tuples\n",
    "index=[('california',2000),('california',2001),('california',2010),\n",
    "       ('new york',2000),('new york',2010),\n",
    "       ('texas',2000),('texas',2010)]# list of tuples\n",
    "population=[33871648,37253956,18976457,19378102,20851820,25145561,26448193]\n",
    "# now we think it is easy to use series because we have only one colunm of value (population)\n",
    "res=pd.Series(population,index=index)\n",
    "print(res)\n",
    "\n",
    "# (california, 2000)    33871648\n",
    "# (california, 2001)    37253956\n",
    "# (california, 2010)    18976457\n",
    "# (new york, 2000)      19378102\n",
    "# (new york, 2010)      20851820\n",
    "# (texas, 2000)         25145561\n",
    "# (texas, 2010)         26448193\n",
    "# we cannot see these kind indexes in () in excel.\n",
    "# so we use multi index \n",
    "\n",
    "index=[('california',2000),('california',2001),('california',2010),\n",
    "       ('new york',2000),('new york',2010),\n",
    "       ('texas',2000),('texas',2010)]\n",
    "population=[33871648,37253956,18976457,19378102,20851820,25145561,26448193]\n",
    "res=pd.MultiIndex.from_tuples(index)\n",
    "res1=pd.Series(population,index=res)\n",
    "print(res1)\n",
    "\n",
    "# so we use multi index when we need to store each indexes in seperate column. if we dont use multi index then all indexes are store ina tuple in a single colunm so it is noot correct so we sholud use muliindex when need indexes in seperate columns.\n",
    "\n",
    "# now by using multi index we get correct form of data as we seen in excel.\n",
    "\n",
    "# so now i want to convert 2nd column indexes(2000,2001,2010,2000,2010,2000,2010) into column\n",
    "res=res1.unstack()\n",
    "print(res)\n",
    "\n",
    "# again if i want get back to same position\n",
    "res=res.stack()\n",
    "print(res)\n",
    "\n",
    "# so to convert index to column we use unstack()\n",
    "# so to covert colummn to index we use stack()\n"
   ]
  },
  {
   "cell_type": "code",
   "execution_count": 17,
   "id": "e305ea73-5cda-4ac3-96a5-5c6bc7952da8",
   "metadata": {},
   "outputs": [
    {
     "name": "stdout",
     "output_type": "stream",
     "text": [
      "                 population  under_18\n",
      "california 2000    33871648      1234\n",
      "           2001    37253956     23345\n",
      "           2010    18976457      3456\n",
      "new york   2000    19378102      4567\n",
      "           2010    20851820      5678\n",
      "texas      2000    25145561      6789\n",
      "           2010    26448193     78910\n"
     ]
    }
   ],
   "source": [
    "# from above example i used series because we have only one column population so we use series\n",
    "\n",
    "# now i have two colunms population and under_18. now for these we use dataframme because we have mmore then 1 colummn\n",
    "population=[33871648,37253956,18976457,19378102,20851820,25145561,26448193]\n",
    "under_18=[1234,23345,3456,4567,5678,6789,78910]\n",
    "index=[('california',2000),('california',2001),('california',2010),\n",
    "       ('new york',2000),('new york',2010),\n",
    "       ('texas',2000),('texas',2010)]\n",
    "res=pd.DataFrame({'population':population,'under_18':under_18},index=pd.MultiIndex.from_tuples(index))\n",
    "print(res)"
   ]
  },
  {
   "cell_type": "code",
   "execution_count": 32,
   "id": "5c8838a3-6205-4247-8ec5-f1c635f3f93d",
   "metadata": {},
   "outputs": [
    {
     "name": "stdout",
     "output_type": "stream",
     "text": [
      "MultiIndex([('a', 1, 'c'),\n",
      "            ('a', 1, 'd'),\n",
      "            ('a', 2, 'c'),\n",
      "            ('a', 2, 'd'),\n",
      "            ('b', 1, 'c'),\n",
      "            ('b', 1, 'd'),\n",
      "            ('b', 2, 'c'),\n",
      "            ('b', 2, 'd')],\n",
      "           )\n",
      "MultiIndex([('a', 1, 'c'),\n",
      "            ('a', 1, 'd'),\n",
      "            ('a', 2, 'c'),\n",
      "            ('a', 2, 'd'),\n",
      "            ('b', 1, 'c'),\n",
      "            ('b', 1, 'd'),\n",
      "            ('b', 2, 'c'),\n",
      "            ('b', 2, 'd')],\n",
      "           )\n"
     ]
    }
   ],
   "source": [
    "# another example: when we have 3 column of indexes where finding combinations likes ('a', 1, 'c'),('a', 1, 'd'),('a', 2, 'c'),('a', 2, 'd'),('b', 1, 'c'),('b', 1, 'd'),('b', 2, 'c'),('b', 2, 'd') are difficult \n",
    "# so for these case we use multiindex.form_product()\n",
    "index=pd.MultiIndex.from_product([['a','b'],[1,2],['c','d']])# here each list is a single index column\n",
    "print(index)\n",
    "\n",
    "# or \n",
    "\n",
    "index=[('a', 1, 'c'),\n",
    "            ('a', 1, 'd'),\n",
    "            ('a', 2, 'c'),\n",
    "            ('a', 2, 'd'),\n",
    "            ('b', 1, 'c'),\n",
    "            ('b', 1, 'd'),\n",
    "            ('b', 2, 'c'),\n",
    "            ('b', 2, 'd')]\n",
    "res=pd.MultiIndex.from_tuples(index)\n",
    "print(res)\n"
   ]
  },
  {
   "cell_type": "code",
   "execution_count": 30,
   "id": "5c9ed228-d5cb-411e-ad60-ce7df2265c90",
   "metadata": {},
   "outputs": [
    {
     "name": "stdout",
     "output_type": "stream",
     "text": [
      "MultiIndex([(2013, 1),\n",
      "            (2013, 2),\n",
      "            (2014, 1),\n",
      "            (2014, 2)],\n",
      "           )\n",
      "MultiIndex([(2013, 1),\n",
      "            (2013, 2),\n",
      "            (2014, 1),\n",
      "            (2014, 2)],\n",
      "           )\n"
     ]
    }
   ],
   "source": [
    "# Another exaple\n",
    "#using multiindex.from_tuples()\n",
    "index=[(2013,1),(2013,2),(2014,1),(2014,2)]\n",
    "res=pd.MultiIndex.from_tuples(index)\n",
    "print(res)\n",
    "\n",
    "# OR\n",
    "# using multiindex.form_product()\n",
    "index=([[2013,2014],[1,2]])\n",
    "res=pd.MultiIndex.from_product(index)\n",
    "print(res)"
   ]
  },
  {
   "cell_type": "code",
   "execution_count": 3,
   "id": "6fbb9add-c36c-4c55-ac54-0a7cf28c4660",
   "metadata": {},
   "outputs": [
    {
     "name": "stdout",
     "output_type": "stream",
     "text": [
      "subject          Bob                 Ram                Ravi          \n",
      "type              HR      Temp        HR      Temp        HR      Temp\n",
      "year visit                                                            \n",
      "2013 1      1.683373  1.232347  1.813016 -1.421694 -1.486600 -0.837607\n",
      "     2      0.371660  1.168389 -1.205759  0.929774  0.252888  1.166112\n",
      "2014 1      0.922962  0.883070  0.957626  1.997315 -0.794220  0.746227\n",
      "     2     -0.484017  0.465319  0.373526  1.730725 -1.348634  0.812008\n"
     ]
    }
   ],
   "source": [
    "# EXAMPLE:\n",
    "import numpy as np\n",
    "import pandas as pd\n",
    "\n",
    "# in these example we have two multiindexes A) row multiindex B) column multiindex \n",
    "\n",
    "\n",
    "# row index\n",
    "row_index=pd.MultiIndex.from_product([[2013,2014],[1,2]],names=['year','visit'])\n",
    "\n",
    "# column index\n",
    "column_index=pd.MultiIndex.from_product([['Bob','Ram','Ravi'],['HR','Temp']],names=['subject','type'])\n",
    "data=np.random.randn(4,6)# mean=4 and std=6\n",
    "res=pd.DataFrame(data,index=row_index,columns=column_index)\n",
    "print(res)\n",
    "\n"
   ]
  },
  {
   "cell_type": "code",
   "execution_count": null,
   "id": "fc03cc7c-c46a-4ec4-8acb-33251b3d8ea4",
   "metadata": {},
   "outputs": [],
   "source": [
    "# NOW LET US SEE\n",
    "# 1. JOIN, CONCATENATE, MERGE\n",
    "# 2. GROUPBY\n",
    "# 3. PIVOT TABLES"
   ]
  },
  {
   "cell_type": "code",
   "execution_count": 8,
   "id": "b3b1c9bf-a1c6-4ff7-9512-b0a9f739ff26",
   "metadata": {},
   "outputs": [
    {
     "name": "stdout",
     "output_type": "stream",
     "text": [
      "   A  B\n",
      "0  1  3\n",
      "1  2  4\n",
      "0  5  7\n",
      "1  6  8\n",
      "   A  B  A  B\n",
      "0  1  3  5  7\n",
      "1  2  4  6  8\n",
      "          A         B\n",
      "1  0.795131  1.234955\n",
      "2 -0.622598  0.771545\n",
      "1 -2.199720 -1.500374\n",
      "2  0.067442  1.477343\n",
      "          A         B         C         D\n",
      "1  0.110890 -0.044023       NaN       NaN\n",
      "2 -0.468709 -2.099122       NaN       NaN\n",
      "1       NaN       NaN -1.280889 -0.413677\n",
      "2       NaN       NaN -0.437859  0.258459\n",
      "          A         B         C         D         E\n",
      "1 -3.231535 -0.792400  0.420012       NaN       NaN\n",
      "2  1.165420 -1.014383  0.305027       NaN       NaN\n",
      "1       NaN       NaN -2.372138  2.715011  1.628323\n",
      "2       NaN       NaN  0.502544  1.239243  0.879523\n",
      "          A         B\n",
      "0  0.619072  1.283240\n",
      "1 -0.929644 -0.354599\n",
      "2  1.358623  1.061535\n",
      "3  0.551677  1.770384\n",
      "          A         B         A         B\n",
      "1 -0.176868 -0.951819  0.077641  0.481663\n",
      "2  0.039454  0.562504  0.162262  0.479474\n",
      "          A         B         C         D\n",
      "1 -0.098575  0.190921       NaN       NaN\n",
      "2  1.316637  0.495501       NaN       NaN\n",
      "3       NaN       NaN  1.136894  1.418714\n",
      "4       NaN       NaN -0.329875 -0.242056\n",
      "          A         B         C         C         D         E\n",
      "1 -0.986128 -0.067505  0.162780 -0.938080  1.307778 -1.060894\n",
      "2  0.924302  0.396947  0.082555  0.491362 -0.273075 -0.503234\n"
     ]
    }
   ],
   "source": [
    "# 1. CONCATENATION:\n",
    "# In pandas, concatenation is a way to combine two or more datasets (like tables) into a single one. Imagine you have two tables and you want to either stack them on top of each other or place them side by side.\n",
    "\n",
    "# Creating two DataFrames\n",
    "import pandas as pd\n",
    "import numpy as np\n",
    "df1 = pd.DataFrame({'A': [1, 2], 'B': [3, 4]})\n",
    "df2 = pd.DataFrame({'A': [5, 6], 'B': [7, 8]})\n",
    "\n",
    "# Concatenating vertically\n",
    "result = pd.concat([df1, df2], axis=0)\n",
    "print(result)\n",
    "\n",
    "# Concatenating horizontally\n",
    "result = pd.concat([df1, df2], axis=1)\n",
    "print(result)\n",
    "\n",
    "# EXAMPLE: COLUMN WISE CONCATINATION\n",
    "#let us consider two dataframes A and B , i want to perfrom concatenation\n",
    "A=pd.DataFrame(np.random.randn(2,2),index=[1,2],columns=['A','B'])\n",
    "B=pd.DataFrame(np.random.randn(2,2),index=[1,2],columns=['A','B'])\n",
    "\n",
    "# now i want to stack A and  B top of another(axis=0)\n",
    "# NOTE: for Stacking (axis=0): Column labels should ideally be the same. Row indices can be the same or different.\n",
    "res=pd.concat([A,B])\n",
    "print(res)\n",
    "\n",
    "#EXAMPLE: as we know that for stacking top of another we sholud have same column names and different row indexes \n",
    "# now if we have different column names means\n",
    "A=pd.DataFrame(np.random.randn(2,2),index=[1,2],columns=['A','B'])\n",
    "B=pd.DataFrame(np.random.randn(2,2),index=[1,2],columns=['C','D'])\n",
    "#here for stacking top of another we have different column lables in both A and B\n",
    "res=pd.concat([A,B])\n",
    "print(res)\n",
    "\n",
    "# EXAMPLE:here some column names are same\n",
    "A=pd.DataFrame(np.random.randn(2,3),index=[1,2],columns=['A','B','C'])\n",
    "B=pd.DataFrame(np.random.randn(2,3),index=[1,2],columns=['D','C','E'])\n",
    "# here in both A and B we have one column lable C is same\n",
    "res=pd.concat([A,B])\n",
    "print(res)\n",
    "\n",
    "# EXAMPLE:\n",
    "import numpy as np\n",
    "import pandas as pd \n",
    "A=pd.DataFrame(np.random.randn(2,2),index=[1,2],columns=['A','B'])\n",
    "B=pd.DataFrame(np.random.randn(2,2),index=[1,2],columns=['A','B'])\n",
    "#here row indexes are same, when we perform concat column wise in output the row index are not in sequence, so we use ignore_index\n",
    "res=pd.concat([A,B],ignore_index=True)\n",
    "print(res)\n",
    "# now in output we will get row indexes in sequence\n",
    "\n",
    "\n",
    "# EXAMPLE: ROW WISE CONCATENATION\n",
    "# for concatenating Side by side (axis=1): Row indices should be same or different. Column labels sholud be same or different.\n",
    "\n",
    "#EXAMPLE: both row indexes and column labels are same\n",
    "A=pd.DataFrame(np.random.randn(2,2),index=[1,2],columns=['A','B'])\n",
    "B=pd.DataFrame(np.random.randn(2,2),index=[1,2],columns=['A','B'])\n",
    "res=pd.concat([A,B],axis=1)\n",
    "print(res)\n",
    "\n",
    "#EXAMPLE :both indexes and column labels are differnt\n",
    "A=pd.DataFrame(np.random.randn(2,2),index=[1,2],columns=['A','B'])\n",
    "B=pd.DataFrame(np.random.randn(2,2),index=[3,4],columns=['C','D'])\n",
    "res=pd.concat([A,B],axis=1)\n",
    "print(res)\n",
    "\n",
    "\n",
    "# EXAMPLE: some column labels are same and all row index are same\n",
    "A=pd.DataFrame(np.random.randn(2,3),index=[1,2],columns=['A','B','C'])\n",
    "B=pd.DataFrame(np.random.randn(2,3),index=[1,2],columns=['C','D','E'])\n",
    "res=pd.concat([A,B],axis=1)\n",
    "print(res)\n",
    "\n",
    "# NOTE:\n",
    "# ignore_index=True is only applicable when concatenating along axis=0.\n",
    "# It is not applicable when concatenating along axis=1.\n",
    "\n",
    "\n",
    "\n",
    "# NOTE:\n",
    "# Side by side (axis=1): Row indices don't have to be the same. Column labels don't have to match.\n",
    "# Stacking (axis=0): Column labels should ideally be the same. Row indices can be the same or different."
   ]
  },
  {
   "cell_type": "code",
   "execution_count": 58,
   "id": "1bfe9946-8e5f-4cd7-a75f-7fd2b9438e53",
   "metadata": {},
   "outputs": [
    {
     "name": "stdout",
     "output_type": "stream",
     "text": [
      "          B         C\n",
      "1  0.690245  0.176697\n",
      "2  0.767757 -0.864199\n",
      "1 -0.850026 -0.206755\n",
      "2  1.214751  0.328345\n"
     ]
    }
   ],
   "source": [
    "# EXAPMLE:  i have two dataframes\n",
    "A=pd.DataFrame(np.random.randn(2,3),index=[1,2],columns=['A','B','C'])\n",
    "B=pd.DataFrame(np.random.randn(2,3),index=[1,2],columns=['B','C','D'])\n",
    "# now i want to find what are the intersected columns in both A and B. means here in both A and B we have two same columns ['B','C'] we need to find these\n",
    "res=pd.concat([A,B],join='inner')# inner join gives the intersection columns between two dataframes.\n",
    "print(res)"
   ]
  },
  {
   "cell_type": "code",
   "execution_count": 9,
   "id": "54d0f640-81e0-4fd9-8048-c2451f1a3bec",
   "metadata": {},
   "outputs": [
    {
     "name": "stdout",
     "output_type": "stream",
     "text": [
      "  student branch  marks\n",
      "0     Ram    ECE     40\n",
      "1   Vinay    EEE     50\n",
      "2  Dheera    EEE     60\n",
      "3   Varun    CSE     80\n"
     ]
    }
   ],
   "source": [
    "# MERGING AND JOINING OF DATAFRAMES\n",
    "# MERGING:Merging in pandas refers to the process of combining two or more DataFrames based on common columns or indices\n",
    "\n",
    "#EXAMPLE:\n",
    "A=pd.DataFrame({'student':['Ram','Vinay','Dheera','Varun'],'branch':['ECE','EEE','EEE','CSE']})\n",
    "B=pd.DataFrame({'student':['Ram','Vinay','Dheera','Varun'],'marks':[40,50,60,80]})\n",
    "res=pd.merge(A,B)\n",
    "print(res)\n",
    "\n",
    "# Here in both dataframes A and B student column is same so based on that it will merge two dataframes\n",
    "\n",
    "# How it works:\n",
    "# Common column: This column is used to match rows from both DataFrames. It will appear only once in the merged result.\n",
    "# Uncommon columns: These are added from both DataFrames and are included in the result.\n",
    "\n",
    "# The student column is the common column between A and B, and it appears only once in the result.\n",
    "# The branch column is from A, and it gets added to the result.\n",
    "# The marks column is from B, and it also gets added to the result.\n"
   ]
  },
  {
   "cell_type": "code",
   "execution_count": 72,
   "id": "c5dc1d9d-a2fc-4012-b1f2-e6551dba9f38",
   "metadata": {},
   "outputs": [
    {
     "name": "stdout",
     "output_type": "stream",
     "text": [
      "  student branch  marks\n",
      "0     Ram    ECE     40\n",
      "1   Vinay    EEE     50\n",
      "2  Dheera    EEE     60\n",
      "3   Varun    CSE     80\n",
      "  student branch  marks\n",
      "0     Ram    ECE     40\n",
      "1   Vinay    EEE     50\n",
      "2  Dheera    EEE     60\n"
     ]
    }
   ],
   "source": [
    "#EXAMPLE:\n",
    "A=pd.DataFrame({'student':['Ram','Vinay','Dheera','Varun'],'branch':['ECE','EEE','EEE','CSE']})\n",
    "B=pd.DataFrame({'student':['Ram','Vinay','Dheera','Varun'],'marks':[40,50,60,80]})\n",
    "res=pd.merge(A,B)\n",
    "print(res)\n",
    "C=pd.DataFrame({'branch':['ECE','EEE']})\n",
    "res1=pd.merge(res,C)\n",
    "print(res1)"
   ]
  },
  {
   "cell_type": "code",
   "execution_count": 3,
   "id": "0863b738-9aee-422f-83f9-abe4a1940788",
   "metadata": {},
   "outputs": [
    {
     "name": "stdout",
     "output_type": "stream",
     "text": [
      "  student branch        skills\n",
      "0     Ram    ECE         excel\n",
      "1     Ram    ECE   spreadsheet\n",
      "2   Vinay    EEE        coding\n",
      "3   Vinay    EEE         linux\n",
      "4  Dheera    EEE        coding\n",
      "5  Dheera    EEE         linux\n",
      "6   Varun    CSE   spreadsheet\n",
      "7   Varun    CSE  organisation\n"
     ]
    }
   ],
   "source": [
    "# EXAMPLE:\n",
    "A=pd.DataFrame({'student':['Ram','Vinay','Dheera','Varun'],'branch':['ECE','EEE','EEE','CSE']})\n",
    "\n",
    "B=pd.DataFrame({'branch':['ECE','ECE','EEE','EEE','CSE','CSE'],'skills':['excel','spreadsheet','coding','linux','spreadsheet','organisation']})\n",
    "res=pd.merge(A,B)\n",
    "print(res)"
   ]
  },
  {
   "cell_type": "code",
   "execution_count": 70,
   "id": "b650be5e-3f30-4ea3-8ca8-aa562a437823",
   "metadata": {},
   "outputs": [
    {
     "name": "stdout",
     "output_type": "stream",
     "text": [
      "  student branch    name  salary\n",
      "0     Ram    ECE     Ram   20000\n",
      "1   Vinay    EEE   Vinay   10000\n",
      "2  Dheera    EEE  Dheera   30000\n",
      "3   Varun    CSE   Varun   40000\n"
     ]
    }
   ],
   "source": [
    "# EXAMPLE:\n",
    "\n",
    "A=pd.DataFrame({'student':['Ram','Vinay','Dheera','Varun'],'branch':['ECE','EEE','EEE','CSE']})\n",
    "B=pd.DataFrame({'name':['Vinay','Ram','Dheera','Varun'],'salary':[10000,20000,30000,40000]})\n",
    "res = pd.merge(A, B, left_on='student', right_on='name')\n",
    "print(res)\n",
    "\n"
   ]
  },
  {
   "cell_type": "code",
   "execution_count": 8,
   "id": "a534add1-f236-4dc8-b61c-dd79457ac954",
   "metadata": {},
   "outputs": [
    {
     "name": "stdout",
     "output_type": "stream",
     "text": [
      "  student branch  marks\n",
      "0     Ram    ECE     40\n",
      "1   Vinay    EEE     50\n",
      "2  Dheera    EEE     60\n",
      "3   Varun    CSE     80\n",
      "  student branch  marks\n",
      "0  Dheera    EEE     60\n",
      "1     Ram    ECE     40\n",
      "2   Varun    CSE     80\n",
      "3   Vinay    EEE     50\n",
      "4    nani    NaN    100\n",
      "5    rana    NaN     90\n"
     ]
    }
   ],
   "source": [
    "# LAST THING ABOUT MERGING:\n",
    "# 1.HOW=INNER\n",
    "# 2.HOW=OUTER\n",
    "\n",
    "#EXAMPLE: HOW=INNER\n",
    "A=pd.DataFrame({'student':['Ram','Vinay','Dheera','Varun'],'branch':['ECE','EEE','EEE','CSE']})\n",
    "B=pd.DataFrame({'student':['Ram','Vinay','Dheera','Varun','rana','nani'],'marks':[40,50,60,80,90,100]})\n",
    "# HERE IN BOTH DATAFRAMES STUDENT COLUMMN HAVE TWO DIFFERENT NAMES RANA AND NANI WHEN WE USE HOW=INNER IT WILL MERGE ONLY SAMME NAMES IN BOOTH DATAFRAMES AND REMMAINING WILL DROP AND BY DEFAULT IT WAS HOW=INNER\n",
    "res=pd.merge(A,B)\n",
    "print(res)\n",
    "\n",
    "#EXAMPLE: HOW=OUTER\n",
    "# NOW I WANT TO PRINT BOTH SAMME AND NOT SAME NAMES\n",
    "A=pd.DataFrame({'student':['Ram','Vinay','Dheera','Varun'],'branch':['ECE','EEE','EEE','CSE']})\n",
    "B=pd.DataFrame({'student':['Ram','Vinay','Dheera','Varun','rana','nani'],'marks':[40,50,60,80,90,100]})\n",
    "res=pd.merge(A,B,how='outer')\n",
    "print(res)"
   ]
  },
  {
   "cell_type": "code",
   "execution_count": null,
   "id": "5407a891-94c2-46b3-bacc-7c30b99dd0a3",
   "metadata": {},
   "outputs": [],
   "source": [
    "\n"
   ]
  },
  {
   "cell_type": "code",
   "execution_count": 6,
   "id": "0fe11805-b59b-44f0-b4a3-34c062ef1a94",
   "metadata": {},
   "outputs": [
    {
     "name": "stdout",
     "output_type": "stream",
     "text": [
      "     survived  pclass     sex   age  sibsp  parch     fare embarked   class  \\\n",
      "0           0       3    male  22.0      1      0   7.2500        S   Third   \n",
      "1           1       1  female  38.0      1      0  71.2833        C   First   \n",
      "2           1       3  female  26.0      0      0   7.9250        S   Third   \n",
      "3           1       1  female  35.0      1      0  53.1000        S   First   \n",
      "4           0       3    male  35.0      0      0   8.0500        S   Third   \n",
      "..        ...     ...     ...   ...    ...    ...      ...      ...     ...   \n",
      "886         0       2    male  27.0      0      0  13.0000        S  Second   \n",
      "887         1       1  female  19.0      0      0  30.0000        S   First   \n",
      "888         0       3  female   NaN      1      2  23.4500        S   Third   \n",
      "889         1       1    male  26.0      0      0  30.0000        C   First   \n",
      "890         0       3    male  32.0      0      0   7.7500        Q   Third   \n",
      "\n",
      "       who  adult_male deck  embark_town alive  alone  \n",
      "0      man        True  NaN  Southampton    no  False  \n",
      "1    woman       False    C    Cherbourg   yes  False  \n",
      "2    woman       False  NaN  Southampton   yes   True  \n",
      "3    woman       False    C  Southampton   yes  False  \n",
      "4      man        True  NaN  Southampton    no   True  \n",
      "..     ...         ...  ...          ...   ...    ...  \n",
      "886    man        True  NaN  Southampton    no   True  \n",
      "887  woman       False    B  Southampton   yes   True  \n",
      "888  woman       False  NaN  Southampton    no  False  \n",
      "889    man        True    C    Cherbourg   yes   True  \n",
      "890    man        True  NaN   Queenstown    no   True  \n",
      "\n",
      "[891 rows x 15 columns]\n"
     ]
    }
   ],
   "source": [
    "import seaborn as sns \n",
    "titanic=sns.load_dataset('titanic')\n",
    "print(titanic)"
   ]
  },
  {
   "cell_type": "code",
   "execution_count": 11,
   "id": "5ac524f2-58ea-4fc0-9cea-8d7a6f3ccf3d",
   "metadata": {},
   "outputs": [
    {
     "name": "stdout",
     "output_type": "stream",
     "text": [
      "     survived  pclass     sex   age  sibsp  parch     fare embarked   class  \\\n",
      "0           0       3    male  22.0      1      0   7.2500        S   Third   \n",
      "1           1       1  female  38.0      1      0  71.2833        C   First   \n",
      "2           1       3  female  26.0      0      0   7.9250        S   Third   \n",
      "3           1       1  female  35.0      1      0  53.1000        S   First   \n",
      "4           0       3    male  35.0      0      0   8.0500        S   Third   \n",
      "..        ...     ...     ...   ...    ...    ...      ...      ...     ...   \n",
      "886         0       2    male  27.0      0      0  13.0000        S  Second   \n",
      "887         1       1  female  19.0      0      0  30.0000        S   First   \n",
      "888         0       3  female   NaN      1      2  23.4500        S   Third   \n",
      "889         1       1    male  26.0      0      0  30.0000        C   First   \n",
      "890         0       3    male  32.0      0      0   7.7500        Q   Third   \n",
      "\n",
      "       who  adult_male deck  embark_town alive  alone  \n",
      "0      man        True  NaN  Southampton    no  False  \n",
      "1    woman       False    C    Cherbourg   yes  False  \n",
      "2    woman       False  NaN  Southampton   yes   True  \n",
      "3    woman       False    C  Southampton   yes  False  \n",
      "4      man        True  NaN  Southampton    no   True  \n",
      "..     ...         ...  ...          ...   ...    ...  \n",
      "886    man        True  NaN  Southampton    no   True  \n",
      "887  woman       False    B  Southampton   yes   True  \n",
      "888  woman       False  NaN  Southampton    no  False  \n",
      "889    man        True    C    Cherbourg   yes   True  \n",
      "890    man        True  NaN   Queenstown    no   True  \n",
      "\n",
      "[891 rows x 15 columns]\n",
      "sex\n",
      "female    0.742038\n",
      "male      0.188908\n",
      "Name: survived, dtype: float64\n",
      "sex     class \n",
      "female  First     0.968085\n",
      "        Second    0.921053\n",
      "        Third     0.500000\n",
      "male    First     0.368852\n",
      "        Second    0.157407\n",
      "        Third     0.135447\n",
      "Name: survived, dtype: float64\n",
      "sex\n",
      "female    314\n",
      "male      577\n",
      "Name: survived, dtype: int64\n"
     ]
    },
    {
     "name": "stderr",
     "output_type": "stream",
     "text": [
      "C:\\Users\\LENOVO\\AppData\\Local\\Temp\\ipykernel_6916\\1602072891.py:23: FutureWarning: The default of observed=False is deprecated and will be changed to True in a future version of pandas. Pass observed=False to retain current behavior or observed=True to adopt the future default and silence this warning.\n",
      "  res=titanic.groupby(['sex','class'])['survived'].mean()\n"
     ]
    }
   ],
   "source": [
    "# GROUP BY:\n",
    "# groupby() is a function that allows you to split your data into groups based on the values in one or more columns, and then perform operations (such as sum, mean, count, etc.) on each of those groups.\n",
    "\n",
    "# **`groupby()`** is used to:\n",
    "# - **Split** data into groups based on the values in one or more columns.\n",
    "# - **Perform operations** (like `sum()`, `mean()`, `count()`, etc.) on each of those groups.\n",
    "\n",
    "# ### In summary:\n",
    "# You can think of it as:\n",
    "# 1. **Group** the data based on column values.\n",
    "# 2. **Apply** a function (like sum, mean) to each group.\n",
    "# 3. **Get results** for each group.\n",
    "\n",
    "# EXAMPLE:\n",
    "titanic=sns.load_dataset('titanic')\n",
    "print(titanic)\n",
    "\n",
    "# what is the average no of males and females survived---group by\n",
    "res=titanic.groupby('sex')['survived'].mean()\n",
    "print(res)\n",
    "\n",
    "# what is the average no of males and females and class survived\n",
    "res=titanic.groupby(['sex','class'])['survived'].mean()\n",
    "print(res)\n",
    "\n",
    "res=titanic.groupby('sex')['survived'].count()\n",
    "print(res)"
   ]
  },
  {
   "cell_type": "code",
   "execution_count": 25,
   "id": "7162a20f-1139-43e3-8e6c-92548a0c66b5",
   "metadata": {},
   "outputs": [
    {
     "name": "stdout",
     "output_type": "stream",
     "text": [
      "class      First    Second     Third\n",
      "sex                                 \n",
      "female  0.968085  0.921053  0.500000\n",
      "male    0.368852  0.157407  0.135447\n",
      "class   First  Second  Third\n",
      "sex                         \n",
      "female     91      70     72\n",
      "male       45      17     47\n",
      "class      First    Second     Third\n",
      "sex                                 \n",
      "female  0.968085  0.921053  0.500000\n",
      "male    0.368852  0.157407  0.135447\n"
     ]
    },
    {
     "name": "stderr",
     "output_type": "stream",
     "text": [
      "C:\\Users\\LENOVO\\AppData\\Local\\Temp\\ipykernel_6916\\3400066583.py:5: FutureWarning: The default value of observed=False is deprecated and will change to observed=True in a future version of pandas. Specify observed=False to silence this warning and retain the current behavior\n",
      "  res=titanic.pivot_table('survived',index='sex',columns='class')\n",
      "C:\\Users\\LENOVO\\AppData\\Local\\Temp\\ipykernel_6916\\3400066583.py:10: FutureWarning: The default value of observed=False is deprecated and will change to observed=True in a future version of pandas. Specify observed=False to silence this warning and retain the current behavior\n",
      "  res=titanic.pivot_table('survived',index='sex',columns='class',aggfunc={'survived':np.sum})\n",
      "C:\\Users\\LENOVO\\AppData\\Local\\Temp\\ipykernel_6916\\3400066583.py:10: FutureWarning: The provided callable <function sum at 0x00000226810822A0> is currently using SeriesGroupBy.sum. In a future version of pandas, the provided callable will be used directly. To keep current behavior pass the string \"sum\" instead.\n",
      "  res=titanic.pivot_table('survived',index='sex',columns='class',aggfunc={'survived':np.sum})\n",
      "C:\\Users\\LENOVO\\AppData\\Local\\Temp\\ipykernel_6916\\3400066583.py:15: FutureWarning: The default value of observed=False is deprecated and will change to observed=True in a future version of pandas. Specify observed=False to silence this warning and retain the current behavior\n",
      "  res=titanic.pivot_table('survived',index='sex',columns='class',aggfunc={'survived':np.mean})\n",
      "C:\\Users\\LENOVO\\AppData\\Local\\Temp\\ipykernel_6916\\3400066583.py:15: FutureWarning: The provided callable <function mean at 0x0000022681083380> is currently using SeriesGroupBy.mean. In a future version of pandas, the provided callable will be used directly. To keep current behavior pass the string \"mean\" instead.\n",
      "  res=titanic.pivot_table('survived',index='sex',columns='class',aggfunc={'survived':np.mean})\n"
     ]
    }
   ],
   "source": [
    "# PIVOT TABLES:\n",
    "# Pivot tables in Pandas are used to group and aggregate data from a dataset. They allow you to transform and reorganize specific data, providing a summary of that data in a tabular format. This helps in easily analyzing trends, patterns, and relationships within the data.\n",
    "# Pivot tables in Pandas are used to group specific data and provide a summary of that data in a tabular format. They allow you to aggregate values using functions like sum, mean, or count, making it easier to analyze and interpret data trends and patterns.\n",
    "#EXAMPLE:\n",
    "res=titanic.pivot_table('survived',index='sex',columns='class')\n",
    "print(res)\n",
    "\n",
    "\n",
    "# I WANT TO FIND SUM\n",
    "res=titanic.pivot_table('survived',index='sex',columns='class',aggfunc={'survived':np.sum})\n",
    "print(res)\n",
    "\n",
    "# I WANT TO FIND MEAN\n",
    "import numpy as np\n",
    "res=titanic.pivot_table('survived',index='sex',columns='class',aggfunc={'survived':np.mean})\n",
    "print(res)"
   ]
  },
  {
   "cell_type": "code",
   "execution_count": 30,
   "id": "a8023746-076b-45ee-a865-2385652e6947",
   "metadata": {},
   "outputs": [
    {
     "name": "stdout",
     "output_type": "stream",
     "text": [
      "  student branch\n",
      "0     Ram    ECE\n",
      "1   Vinay    EEE\n",
      "2  Dheera    EEE\n",
      "3   Varun    CSE\n",
      "  student  marks\n",
      "0     Ram     40\n",
      "1   Vinay     50\n",
      "2  Dheera     60\n",
      "3   Varun     80\n",
      "4    rana     90\n",
      "5     sai    100\n",
      "  student branch  marks\n",
      "0     Ram    ECE     40\n",
      "1   Vinay    EEE     50\n",
      "2  Dheera    EEE     60\n",
      "3   Varun    CSE     80\n"
     ]
    }
   ],
   "source": []
  },
  {
   "cell_type": "code",
   "execution_count": null,
   "id": "31d9677f-bfdf-4972-b164-d324ed3dfa03",
   "metadata": {},
   "outputs": [],
   "source": []
  }
 ],
 "metadata": {
  "kernelspec": {
   "display_name": "Python 3 (ipykernel)",
   "language": "python",
   "name": "python3"
  },
  "language_info": {
   "codemirror_mode": {
    "name": "ipython",
    "version": 3
   },
   "file_extension": ".py",
   "mimetype": "text/x-python",
   "name": "python",
   "nbconvert_exporter": "python",
   "pygments_lexer": "ipython3",
   "version": "3.12.4"
  }
 },
 "nbformat": 4,
 "nbformat_minor": 5
}
