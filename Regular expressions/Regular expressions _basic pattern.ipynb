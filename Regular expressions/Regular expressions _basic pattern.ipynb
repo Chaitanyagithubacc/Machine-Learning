{
 "cells": [
  {
   "cell_type": "code",
   "execution_count": 3,
   "id": "ca211efe-3374-4bc6-bbf2-74d04f51885c",
   "metadata": {},
   "outputs": [
    {
     "name": "stdout",
     "output_type": "stream",
     "text": [
      "First Citizen:\n",
      "Before we proceed any further, hear me speak.\n",
      "\n",
      "All:\n",
      "Speak, speak.\n",
      "\n",
      "First Citizen:\n",
      "You are all resolved rather to die than to famish?\n",
      "\n",
      "All:\n",
      "Resolved. resolved.\n",
      "\n",
      "First Citizen:\n",
      "First, you know Caius Marcius is chief enemy to the people.\n",
      "\n"
     ]
    }
   ],
   "source": [
    "text1=\"\"\"First Citizen:\n",
    "Before we proceed any further, hear me speak.\n",
    "\n",
    "All:\n",
    "Speak, speak.\n",
    "\n",
    "First Citizen:\n",
    "You are all resolved rather to die than to famish?\n",
    "\n",
    "All:\n",
    "Resolved. resolved.\n",
    "\n",
    "First Citizen:\n",
    "First, you know Caius Marcius is chief enemy to the people.\n",
    "\"\"\"\n",
    "print(text1)"
   ]
  },
  {
   "cell_type": "code",
   "execution_count": 21,
   "id": "58913197-5c2a-4d0d-9131-4473a8bd901a",
   "metadata": {},
   "outputs": [
    {
     "name": "stdout",
     "output_type": "stream",
     "text": [
      "{'u', ',', 'Y', '?', 'M', '\\n', 't', 'i', 'w', 'F', 'B', 'e', '.', 'o', 'r', 'C', 'k', 'R', ' ', 'l', ':', 's', 'a', 'm', 'n', 'c', 'z', 'f', 'S', 'y', 'h', 'v', 'A', 'p', 'd'}\n"
     ]
    }
   ],
   "source": [
    "A1=set(text1)\n",
    "print(A1)"
   ]
  },
  {
   "cell_type": "code",
   "execution_count": 25,
   "id": "70bbfa90-81e7-4cab-b26d-b4f39fdf086e",
   "metadata": {},
   "outputs": [
    {
     "name": "stdout",
     "output_type": "stream",
     "text": [
      "['u', ',', 'Y', '?', 'M', '\\n', 't', 'i', 'w', 'F', 'B', 'e', '.', 'o', 'r', 'C', 'k', 'R', ' ', 'l', ':', 's', 'a', 'm', 'n', 'c', 'z', 'f', 'S', 'y', 'h', 'v', 'A', 'p', 'd']\n"
     ]
    }
   ],
   "source": [
    "A2=list(set(text1))\n",
    "print(A2)"
   ]
  },
  {
   "cell_type": "code",
   "execution_count": 5,
   "id": "38e02c29-b213-4300-a2bf-73d86714254c",
   "metadata": {},
   "outputs": [
    {
     "name": "stdout",
     "output_type": "stream",
     "text": [
      "['\\n', ' ', ',', '.', ':', '?', 'A', 'B', 'C', 'F', 'M', 'R', 'S', 'Y', 'a', 'c', 'd', 'e', 'f', 'h', 'i', 'k', 'l', 'm', 'n', 'o', 'p', 'r', 's', 't', 'u', 'v', 'w', 'y', 'z']\n"
     ]
    }
   ],
   "source": [
    "A3=sorted(list(set(text1)))\n",
    "print(A3)"
   ]
  },
  {
   "cell_type": "code",
   "execution_count": 39,
   "id": "4c15d68e-92a6-4a75-a481-1e560dad4df4",
   "metadata": {},
   "outputs": [
    {
     "name": "stdout",
     "output_type": "stream",
     "text": [
      "{'\\n': 0, ' ': 1, ',': 2, '.': 3, ':': 4, '?': 5, 'A': 6, 'B': 7, 'C': 8, 'F': 9, 'M': 10, 'R': 11, 'S': 12, 'Y': 13, 'a': 14, 'c': 15, 'd': 16, 'e': 17, 'f': 18, 'h': 19, 'i': 20, 'k': 21, 'l': 22, 'm': 23, 'n': 24, 'o': 25, 'p': 26, 'r': 27, 's': 28, 't': 29, 'u': 30, 'v': 31, 'w': 32, 'y': 33, 'z': 34}\n"
     ]
    }
   ],
   "source": [
    "stoi = {A3:i for i, A3 in enumerate(A3)}\n",
    "print(stoi)"
   ]
  },
  {
   "cell_type": "code",
   "execution_count": null,
   "id": "155ff4d9-7030-4c7a-bead-1d23ad68a5d6",
   "metadata": {},
   "outputs": [],
   "source": [
    "for i, A3_item in enumerate(A3):\n",
    "    print(f\"Index: {i}, Character: {A3_item}\")  # Print the index and the character\n",
    "    stoi[A3_item] = i"
   ]
  },
  {
   "cell_type": "code",
   "execution_count": 45,
   "id": "132e436e-1b24-4b0e-bb19-14e38abf1c8d",
   "metadata": {},
   "outputs": [
    {
     "name": "stdout",
     "output_type": "stream",
     "text": [
      "Index: 0, Character: \n",
      "\n",
      "Index: 1, Character:  \n",
      "Index: 2, Character: ,\n",
      "Index: 3, Character: .\n",
      "Index: 4, Character: :\n",
      "Index: 5, Character: ?\n",
      "Index: 6, Character: A\n",
      "Index: 7, Character: B\n",
      "Index: 8, Character: C\n",
      "Index: 9, Character: F\n",
      "Index: 10, Character: M\n",
      "Index: 11, Character: R\n",
      "Index: 12, Character: S\n",
      "Index: 13, Character: Y\n",
      "Index: 14, Character: a\n",
      "Index: 15, Character: c\n",
      "Index: 16, Character: d\n",
      "Index: 17, Character: e\n",
      "Index: 18, Character: f\n",
      "Index: 19, Character: h\n",
      "Index: 20, Character: i\n",
      "Index: 21, Character: k\n",
      "Index: 22, Character: l\n",
      "Index: 23, Character: m\n",
      "Index: 24, Character: n\n",
      "Index: 25, Character: o\n",
      "Index: 26, Character: p\n",
      "Index: 27, Character: r\n",
      "Index: 28, Character: s\n",
      "Index: 29, Character: t\n",
      "Index: 30, Character: u\n",
      "Index: 31, Character: v\n",
      "Index: 32, Character: w\n",
      "Index: 33, Character: y\n",
      "Index: 34, Character: z\n",
      "\n",
      "Final Dictionary (stoi): {'z': 0}\n"
     ]
    }
   ],
   "source": [
    "# Loop through the string to understand how enumerate works\n",
    "for i, A3 in enumerate(A3):\n",
    "    print(f\"Index: {i}, Character: {A3}\")\n",
    "\n",
    "# After that, construct the dictionary\n",
    "stoi = {A3: i for i, A3 in enumerate(A3)}\n",
    "print(\"\\nFinal Dictionary (stoi):\", stoi)\n"
   ]
  },
  {
   "cell_type": "code",
   "execution_count": 9,
   "id": "9cf11546-7b62-4ee3-9fb4-e02f309c6872",
   "metadata": {},
   "outputs": [
    {
     "data": {
      "text/plain": [
       "[27, 17, 28, 25, 22, 31, 17, 16]"
      ]
     },
     "execution_count": 9,
     "metadata": {},
     "output_type": "execute_result"
    }
   ],
   "source": [
    "stoi = {ch:i for i, ch in enumerate(A3)}\n",
    "encode = lambda s: [stoi[i] for i in s]\n",
    "encode(\"resolved\")"
   ]
  },
  {
   "cell_type": "code",
   "execution_count": 11,
   "id": "4e71d907-7e6e-42df-bf7a-57d7cb2c64da",
   "metadata": {},
   "outputs": [
    {
     "name": "stdout",
     "output_type": "stream",
     "text": [
      "[11, 17, 28, 25, 22, 31, 17, 16]\n",
      "Resolved\n"
     ]
    }
   ],
   "source": [
    "text22=\"Resolved\"\n",
    "text23=encode(text22)\n",
    "\n",
    "stoi = {ch:i for i, ch in enumerate(A3)}\n",
    "itos = {i:ch for i, ch in enumerate(A3)}\n",
    "\n",
    "encode = lambda s: [stoi[i] for i in s]\n",
    "decode = lambda l: ''.join([itos[i] for i in l])\n",
    "\n",
    "print(encode(text22))\n",
    "print(decode(text23))\n",
    "\n"
   ]
  },
  {
   "cell_type": "code",
   "execution_count": 13,
   "id": "ecc98d95-d1ab-40f2-a486-b482b38c6b0d",
   "metadata": {},
   "outputs": [
    {
     "name": "stdout",
     "output_type": "stream",
     "text": [
      "Requirement already satisfied: torch in c:\\users\\chaitanya\\anaconda3\\lib\\site-packages (2.4.1)\n",
      "Requirement already satisfied: filelock in c:\\users\\chaitanya\\anaconda3\\lib\\site-packages (from torch) (3.13.1)\n",
      "Requirement already satisfied: typing-extensions>=4.8.0 in c:\\users\\chaitanya\\anaconda3\\lib\\site-packages (from torch) (4.11.0)\n",
      "Requirement already satisfied: sympy in c:\\users\\chaitanya\\anaconda3\\lib\\site-packages (from torch) (1.12)\n",
      "Requirement already satisfied: networkx in c:\\users\\chaitanya\\anaconda3\\lib\\site-packages (from torch) (3.2.1)\n",
      "Requirement already satisfied: jinja2 in c:\\users\\chaitanya\\anaconda3\\lib\\site-packages (from torch) (3.1.4)\n",
      "Requirement already satisfied: fsspec in c:\\users\\chaitanya\\anaconda3\\lib\\site-packages (from torch) (2024.3.1)\n",
      "Requirement already satisfied: setuptools in c:\\users\\chaitanya\\anaconda3\\lib\\site-packages (from torch) (69.5.1)\n",
      "Requirement already satisfied: MarkupSafe>=2.0 in c:\\users\\chaitanya\\anaconda3\\lib\\site-packages (from jinja2->torch) (2.1.3)\n",
      "Requirement already satisfied: mpmath>=0.19 in c:\\users\\chaitanya\\anaconda3\\lib\\site-packages (from sympy->torch) (1.3.0)\n"
     ]
    }
   ],
   "source": [
    "!pip install torch\n",
    "\n",
    "\n"
   ]
  },
  {
   "cell_type": "code",
   "execution_count": 14,
   "id": "15ffc6da-a364-4d8b-b984-a68832c65853",
   "metadata": {},
   "outputs": [
    {
     "name": "stdout",
     "output_type": "stream",
     "text": [
      "torch.Size([250]) torch.int64\n"
     ]
    }
   ],
   "source": [
    "\n",
    "import torch\n",
    "data = torch.tensor(encode(text1), dtype=torch.long)\n",
    "print(data.shape, data.dtype)"
   ]
  },
  {
   "cell_type": "code",
   "execution_count": 15,
   "id": "b19291dc-5c4f-4c8b-9ee7-55e48899595c",
   "metadata": {},
   "outputs": [],
   "source": [
    "# Split data into testing and training datasets\n",
    "n = int(0.9*len(data))\n",
    "train_data = data[:n]\n",
    "val_data = data[n:]"
   ]
  },
  {
   "cell_type": "code",
   "execution_count": 19,
   "id": "81d2b9f0-fe26-418f-a618-d0c70ae5ef87",
   "metadata": {},
   "outputs": [],
   "source": [
    "block_size = 8"
   ]
  },
  {
   "cell_type": "code",
   "execution_count": 21,
   "id": "0022f5ca-ae0f-49ee-ad46-78f5f56da3a2",
   "metadata": {},
   "outputs": [
    {
     "name": "stdout",
     "output_type": "stream",
     "text": [
      "when input is tensor([9]) then target is 20\n",
      "when input is tensor([ 9, 20]) then target is 27\n",
      "when input is tensor([ 9, 20, 27]) then target is 28\n",
      "when input is tensor([ 9, 20, 27, 28]) then target is 29\n",
      "when input is tensor([ 9, 20, 27, 28, 29]) then target is 1\n",
      "when input is tensor([ 9, 20, 27, 28, 29,  1]) then target is 8\n",
      "when input is tensor([ 9, 20, 27, 28, 29,  1,  8]) then target is 20\n",
      "when input is tensor([ 9, 20, 27, 28, 29,  1,  8, 20]) then target is 29\n"
     ]
    }
   ],
   "source": [
    "# Sample train and target data\n",
    "x = train_data[:block_size]\n",
    "y = train_data[1:block_size+1]\n",
    "\n",
    "for t in range(block_size):\n",
    "    context = x[:t+1]\n",
    "    target = y[t]\n",
    "    print(f'when input is {context} then target is {target}')"
   ]
  },
  {
   "cell_type": "code",
   "execution_count": null,
   "id": "b43c26e6-ddf4-4576-8954-4efe6cd0ade1",
   "metadata": {},
   "outputs": [],
   "source": []
  }
 ],
 "metadata": {
  "kernelspec": {
   "display_name": "Python 3 (ipykernel)",
   "language": "python",
   "name": "python3"
  },
  "language_info": {
   "codemirror_mode": {
    "name": "ipython",
    "version": 3
   },
   "file_extension": ".py",
   "mimetype": "text/x-python",
   "name": "python",
   "nbconvert_exporter": "python",
   "pygments_lexer": "ipython3",
   "version": "3.12.4"
  }
 },
 "nbformat": 4,
 "nbformat_minor": 5
}
